{
 "cells": [
  {
   "cell_type": "markdown",
   "metadata": {
    "id": "u3tNgae3trRG"
   },
   "source": [
    "## Reference to MoCo Demo: CIFAR-10\n",
    "\n",
    "This is a simple demo for training MoCo on fingerprint dataset (SOCOFing fingerprint dataset from Kaggle). It can be run directly in a Colab notebook using a publicly available GPU.\n",
    "\n",
    "#### Results\n",
    "\n",
    "These are the ResNet-18 classification accuracy of a **kNN monitor** on the unsupervised pre-training features.\n",
    "\n",
    "| config | 200ep | 400ep | 800ep |\n",
    "| --- | --- | --- | --- |\n",
    "| Asymmetric | 82.6 | 86.3 | 88.7 |\n",
    "| Symmetric | 85.3 | 88.5 | 89.7 |\n",
    "\n",
    "#### Notes\n",
    "\n",
    "* **Symmetric loss**: the original MoCo paper uses an *asymmetric* loss -- one crop is the query and the other crop is the key, and it backpropagates to one crop (query). Following SimCLR/BYOL, here we provide an option of a *symmetric* loss -- it swaps the two crops and computes an extra loss. The symmetric loss behaves like 2x epochs of the asymmetric counterpart: this may dominate the comparison results when the models are trained with a fixed epoch number.\n",
    "\n",
    "* **SplitBatchNorm**: the original MoCo was trained in 8 GPUs. To simulate the multi-GPU behavior of BatchNorm in this 1-GPU demo, we provide a SplitBatchNorm layer. We set `--bn-splits 8` by default to simulate 8 GPUs. `--bn-splits 1` is analogous to SyncBatchNorm in the multi-GPU case.\n",
    "\n",
    "* **kNN monitor**: this demo provides a kNN monitor on the test set. Training a linear classifier on frozen features often achieves higher accuracy. To train a linear classifier (not provided in this demo), we recommend using lr=30, wd=0, epochs=100 with a stepwise or cosine schedule. The ResNet-18 model (kNN 89.7) has 90.7 linear classification accuracy.\n",
    "\n",
    "#### Disclaimer\n",
    "\n",
    "This demo aims to provide an interface with a free GPU (thanks to Colab) for understanding how the code runs. We suggest users be careful to draw conclusions from CIFAR, which may not generalize beyond this dataset. We have verified that it is beneficial to have the momentum encoder (disabling it by `--moco-m 0.0` should fail), queue size (saturated at `--moco-k 4096`) and ShuffleBN (without which loses 4% at 800 epochs) on CIFAR, similar to the observations on ImageNet. But new observations made only on CIFAR should be judged with caution.\n",
    "\n",
    "#### References\n",
    "This demo is adapted from:\n",
    "* http://github.com/zhirongw/lemniscate.pytorch\n",
    "* https://github.com/leftthomas/SimCLR\n",
    "* [MoCo DEMO: CIFAR-10](https://colab.research.google.com/github/facebookresearch/moco/blob/colab-notebook/colab/moco_cifar10_demo.ipynb)\n",
    "* [SOCOFing Dataset](https://www.kaggle.com/datasets/ruizgara/socofing)\n",
    "\n",
    "\n",
    "\n",
    "\n",
    "\n"
   ]
  },
  {
   "cell_type": "markdown",
   "metadata": {
    "id": "9MXcbCW8f7Eh"
   },
   "source": [
    "### Prepare\n",
    "\n",
    "Check GPU settings. A free GPU in Colab is <= Tesla P100. The log of the demo is based on a Tesla V100 from Google Cloud Platform.\n"
   ]
  },
  {
   "cell_type": "code",
   "execution_count": 1,
   "metadata": {
    "colab": {
     "base_uri": "https://localhost:8080/"
    },
    "id": "CvAFrPlS4bLU",
    "outputId": "ce78ac41-0d64-48ab-ef3a-0f3612bfc897"
   },
   "outputs": [
    {
     "name": "stdout",
     "output_type": "stream",
     "text": [
      "Sun Jul 16 05:33:15 2023       \n",
      "+---------------------------------------------------------------------------------------+\n",
      "| NVIDIA-SMI 535.54.03              Driver Version: 535.54.03    CUDA Version: 12.2     |\n",
      "|-----------------------------------------+----------------------+----------------------+\n",
      "| GPU  Name                 Persistence-M | Bus-Id        Disp.A | Volatile Uncorr. ECC |\n",
      "| Fan  Temp   Perf          Pwr:Usage/Cap |         Memory-Usage | GPU-Util  Compute M. |\n",
      "|                                         |                      |               MIG M. |\n",
      "|=========================================+======================+======================|\n",
      "|   0  NVIDIA GeForce RTX 3090        Off | 00000000:01:00.0 Off |                  N/A |\n",
      "| 59%   47C    P8              35W / 390W |     30MiB / 24576MiB |      0%      Default |\n",
      "|                                         |                      |                  N/A |\n",
      "+-----------------------------------------+----------------------+----------------------+\n",
      "                                                                                         \n",
      "+---------------------------------------------------------------------------------------+\n",
      "| Processes:                                                                            |\n",
      "|  GPU   GI   CI        PID   Type   Process name                            GPU Memory |\n",
      "|        ID   ID                                                             Usage      |\n",
      "|=======================================================================================|\n",
      "+---------------------------------------------------------------------------------------+\n"
     ]
    }
   ],
   "source": [
    "gpu_info = !nvidia-smi -i 0\n",
    "gpu_info = '\\n'.join(gpu_info)\n",
    "print(gpu_info)\n",
    "\n",
    "from datetime import datetime\n",
    "from functools import partial\n",
    "from PIL import Image\n",
    "from torch.utils.data import DataLoader\n",
    "from torchvision import transforms\n",
    "from torchvision.datasets import CIFAR10\n",
    "from torchvision.models import resnet\n",
    "from tqdm import tqdm\n",
    "import argparse\n",
    "import json\n",
    "import math\n",
    "import os\n",
    "import pandas as pd\n",
    "import torch\n",
    "import torch.nn as nn\n",
    "import torch.nn.functional as F\n",
    "# below added by Allen which is needed for custom dataset class\n",
    "from PIL import Image\n",
    "import pandas as pd\n",
    "from scipy.io import loadmat\n",
    "from torch.utils.data import DataLoader\n",
    "from torch.utils.data.dataset import Dataset\n",
    "import cv2"
   ]
  },
  {
   "cell_type": "markdown",
   "metadata": {
    "id": "S_rtoBGhgSae"
   },
   "source": [
    "### Set arguments"
   ]
  },
  {
   "cell_type": "code",
   "execution_count": 2,
   "metadata": {
    "colab": {
     "base_uri": "https://localhost:8080/"
    },
    "id": "dvuxcmejkKt8",
    "outputId": "a4a261d0-d561-4924-f041-11fadde9cb17"
   },
   "outputs": [
    {
     "name": "stdout",
     "output_type": "stream",
     "text": [
      "Namespace(arch='resnet18', batch_size=128, bn_splits=8, classes=600, cos=True, epoch_size=31052, epochs=200, knn_k=200, knn_t=0.1, learning_rate=0.03, lr=0.06, moco_dim=128, moco_k=4096, moco_m=0.99, moco_t=0.1, resume='', schedule=[], symmetric=False, wd=0.0005)\n"
     ]
    }
   ],
   "source": [
    "parser = argparse.ArgumentParser(description='Train MoCo on CIFAR-10')\n",
    "\n",
    "parser.add_argument('-a', '--arch', default='resnet18')\n",
    "\n",
    "# lr: 0.06 for batch 512 (or 0.03 for batch 256)\n",
    "parser.add_argument('--lr', '--learning-rate', default=0.06, type=float, metavar='LR', help='initial learning rate', dest='lr')\n",
    "parser.add_argument('--epochs', default=200, type=int, metavar='N', help='number of total epochs to run')\n",
    "parser.add_argument('--epoch-size', default=31052, type=int,\n",
    "                    help='size of training set to use (default:55270, size of SOCOFing fingerprint dataset)')\n",
    "parser.add_argument('--classes', default=600, type=int,\n",
    "                    help='Number of classes in the training set (default: 600)')\n",
    "parser.add_argument('--schedule', default=[120, 160], nargs='*', type=int, help='learning rate schedule (when to drop lr by 10x); does not take effect if --cos is on')\n",
    "parser.add_argument('--cos', action='store_true', help='use cosine lr schedule')\n",
    "\n",
    "parser.add_argument('--batch-size', default=512, type=int, metavar='N', help='mini-batch size')\n",
    "parser.add_argument('--wd', default=5e-4, type=float, metavar='W', help='weight decay')\n",
    "\n",
    "# moco specific configs:\n",
    "parser.add_argument('--moco-dim', default=128, type=int, help='feature dimension')\n",
    "parser.add_argument('--moco-k', default=4096, type=int, help='queue size; number of negative keys')\n",
    "parser.add_argument('--moco-m', default=0.99, type=float, help='moco momentum of updating key encoder')\n",
    "parser.add_argument('--moco-t', default=0.1, type=float, help='softmax temperature')\n",
    "\n",
    "parser.add_argument('--bn-splits', default=8, type=int, help='simulate multi-gpu behavior of BatchNorm in one gpu; 1 is SyncBatchNorm in multi-gpu')\n",
    "\n",
    "parser.add_argument('--symmetric', action='store_true', help='use a symmetric loss function that backprops to both crops')\n",
    "\n",
    "# knn monitor\n",
    "parser.add_argument('--knn-k', default=200, type=int, help='k in kNN monitor')\n",
    "parser.add_argument('--knn-t', default=0.1, type=float, help='softmax temperature in kNN monitor; could be different with moco-t')\n",
    "\n",
    "# utils\n",
    "parser.add_argument('--resume', default='', type=str, metavar='PATH', help='path to latest checkpoint (default: none)')\n",
    "#parser.add_argument('--results-dir', default='', type=str, metavar='PATH', help='path to cache (default: none)')\n",
    "\n",
    "'''\n",
    "args = parser.parse_args()  # running in command line\n",
    "'''\n",
    "args = parser.parse_args('')  # running in ipynb\n",
    "\n",
    "# set command line arguments here when running in ipynb\n",
    "args.epochs = 200\n",
    "args.batch_size = 128\n",
    "args.learning_rate = 0.03\n",
    "#args.results_dir = os.path.join(\"model\", \"selfsup\", \"moco\")\n",
    "args.cos = True\n",
    "args.schedule = []  # cos in use\n",
    "args.symmetric = False\n",
    "# if args.results_dir == '':\n",
    "#     args.results_dir = './cache-' + datetime.now().strftime(\"%Y-%m-%d-%H-%M-%S-moco\")\n",
    "\n",
    "print(args)"
   ]
  },
  {
   "cell_type": "code",
   "execution_count": 3,
   "metadata": {},
   "outputs": [],
   "source": [
    "# fingerprint dataset class\n",
    "# 2023-3-12 custom dataset created by Allen LIN\n",
    "\n",
    "class fingerprintDataset(Dataset):\n",
    "    def __init__(self, annotations_file, img_dir, transform=None, target_transform=None):\n",
    "        self.img_labels = pd.read_csv(annotations_file)\n",
    "        self.img_dir = img_dir\n",
    "        self.transform = transform\n",
    "        self.targets = self.img_labels.iloc[:, 1] # label of the dataset\n",
    "        self.target_transform = target_transform\n",
    "    def __getitem__(self, idx):\n",
    "        img_path = os.path.join(self.img_dir, self.img_labels.iloc[idx, 0])\n",
    "        image = cv2.imread(img_path, cv2.IMREAD_GRAYSCALE)\n",
    "        label = self.img_labels.iloc[idx, 1]\n",
    "        if self.transform:\n",
    "            image = self.transform(image)\n",
    "        if self.target_transform:\n",
    "            label = self.target_transform(label)\n",
    "        return image, label\n",
    "    def __len__(self):\n",
    "        return len(self.img_labels)"
   ]
  },
  {
   "cell_type": "markdown",
   "metadata": {
    "id": "ygQeHtsngrC8"
   },
   "source": [
    "### Define data loaders"
   ]
  },
  {
   "cell_type": "code",
   "execution_count": 4,
   "metadata": {
    "colab": {
     "base_uri": "https://localhost:8080/"
    },
    "id": "AoliFX5AnBJ0",
    "outputId": "6db07a71-5a4d-479b-b4a7-907b60e2bab0"
   },
   "outputs": [],
   "source": [
    "# class CIFAR10Pair(CIFAR10):\n",
    "#     \"\"\"CIFAR10 Dataset.\n",
    "#     \"\"\"\n",
    "#     def __getitem__(self, index):\n",
    "#         img = self.data[index]\n",
    "#         img = Image.fromarray(img)\n",
    "\n",
    "#         if self.transform is not None:\n",
    "#             im_1 = self.transform(img)\n",
    "#             im_2 = self.transform(img)\n",
    "\n",
    "#         return im_1, im_2\n",
    "class fingerprintPair(fingerprintDataset):\n",
    "    def __getitem__(self, idx):\n",
    "        img_path = os.path.join(self.img_dir, self.img_labels.iloc[idx, 0])\n",
    "        image = cv2.imread(img_path, cv2.IMREAD_GRAYSCALE)\n",
    "        \n",
    "        if self.transform:\n",
    "            im_1 = self.transform(image)\n",
    "            im_2 = self.transform(image)\n",
    "        \n",
    "        return im_1, im_2\n",
    "\n",
    "train_transform = transforms.Compose([\n",
    "    transforms.ToPILImage(), # to PIL format\n",
    "    transforms.RandomResizedCrop(32),\n",
    "    transforms.RandomHorizontalFlip(p=0.5),\n",
    "    #transforms.RandomApply([transforms.ColorJitter(0.4, 0.4, 0.4, 0.1)], p=0.8),\n",
    "    transforms.RandomGrayscale(p=0.2),\n",
    "    transforms.ToTensor(),\n",
    "    #transforms.Normalize([0.4914, 0.4822, 0.4465], [0.2023, 0.1994, 0.2010])\n",
    "    transforms.Normalize(mean=[0.5071], std=[0.4107])\n",
    "])\n",
    "\n",
    "test_transform = transforms.Compose([\n",
    "    transforms.ToPILImage(), # to PIL format\n",
    "    transforms.Resize((32, 32)),\n",
    "    transforms.ToTensor(),\n",
    "    #transforms.Normalize([0.4914, 0.4822, 0.4465], [0.2023, 0.1994, 0.2010])\n",
    "    transforms.Normalize(mean=[0.5071], std=[0.4107])\n",
    "])\n",
    "\n",
    "training_annotations_file = os.path.join(\"kaggle_fingerprint\", \"kaggle_training_fingerprint_annotations.csv\")\n",
    "validation_annotations_file = os.path.join(\"kaggle_fingerprint\", \"kaggle_validation_fingerprint_annotations.csv\")\n",
    "img_dir = os.path.join(\"kaggle_fingerprint\", \"SOCOFing\", \"All\")\n",
    "# data prepare\n",
    "#train_data = CIFAR10Pair(root='data', train=True, transform=train_transform, download=True)\n",
    "train_data = fingerprintPair(training_annotations_file, img_dir, transform=train_transform)\n",
    "train_loader = DataLoader(train_data, batch_size=args.batch_size, shuffle=True, num_workers=16, pin_memory=True, drop_last=True)\n",
    "\n",
    "#memory_data = CIFAR10(root='data', train=True, transform=test_transform, download=True)\n",
    "memory_data = fingerprintDataset(training_annotations_file, img_dir, transform=test_transform)\n",
    "memory_loader = DataLoader(memory_data, batch_size=args.batch_size, shuffle=False, num_workers=16, pin_memory=True)\n",
    "\n",
    "#test_data = CIFAR10(root='data', train=False, transform=test_transform, download=True)\n",
    "test_data = fingerprintDataset(validation_annotations_file, img_dir, transform=test_transform)\n",
    "test_loader = DataLoader(test_data, batch_size=args.batch_size, shuffle=False, num_workers=16, pin_memory=True)\n"
   ]
  },
  {
   "cell_type": "markdown",
   "metadata": {
    "id": "KsAVAtRoiBbG"
   },
   "source": [
    "### Define base encoder"
   ]
  },
  {
   "cell_type": "code",
   "execution_count": 5,
   "metadata": {
    "id": "bNd_Q_Osi0SO"
   },
   "outputs": [],
   "source": [
    "# SplitBatchNorm: simulate multi-gpu behavior of BatchNorm in one gpu by splitting alone the batch dimension\n",
    "# implementation adapted from https://github.com/davidcpage/cifar10-fast/blob/master/torch_backend.py\n",
    "class SplitBatchNorm(nn.BatchNorm2d):\n",
    "    def __init__(self, num_features, num_splits, **kw):\n",
    "        super().__init__(num_features, **kw)\n",
    "        self.num_splits = num_splits\n",
    "\n",
    "    def forward(self, input):\n",
    "        N, C, H, W = input.shape\n",
    "        if self.training or not self.track_running_stats:\n",
    "            running_mean_split = self.running_mean.repeat(self.num_splits)\n",
    "            running_var_split = self.running_var.repeat(self.num_splits)\n",
    "            outcome = nn.functional.batch_norm(\n",
    "                input.view(-1, C * self.num_splits, H, W), running_mean_split, running_var_split,\n",
    "                self.weight.repeat(self.num_splits), self.bias.repeat(self.num_splits),\n",
    "                True, self.momentum, self.eps).view(N, C, H, W)\n",
    "            self.running_mean.data.copy_(running_mean_split.view(self.num_splits, C).mean(dim=0))\n",
    "            self.running_var.data.copy_(running_var_split.view(self.num_splits, C).mean(dim=0))\n",
    "            return outcome\n",
    "        else:\n",
    "            return nn.functional.batch_norm(\n",
    "                input, self.running_mean, self.running_var,\n",
    "                self.weight, self.bias, False, self.momentum, self.eps)\n",
    "\n",
    "class ModelBase(nn.Module):\n",
    "    \"\"\"\n",
    "    Common CIFAR ResNet recipe.\n",
    "    Comparing with ImageNet ResNet recipe, it:\n",
    "    (i) replaces conv1 with kernel=3, str=1\n",
    "    (ii) removes pool1\n",
    "    \"\"\"\n",
    "    def __init__(self, feature_dim=128, arch=None, bn_splits=16):\n",
    "        super(ModelBase, self).__init__()\n",
    "\n",
    "        # use split batchnorm\n",
    "        norm_layer = partial(SplitBatchNorm, num_splits=bn_splits) if bn_splits > 1 else nn.BatchNorm2d\n",
    "        resnet_arch = getattr(resnet, arch)\n",
    "        net = resnet_arch(num_classes=feature_dim, norm_layer=norm_layer)\n",
    "\n",
    "        self.net = []\n",
    "        for name, module in net.named_children():\n",
    "            if name == 'conv1':\n",
    "                module = nn.Conv2d(1, 64, kernel_size=3, stride=1, padding=1, bias=False)\n",
    "            if isinstance(module, nn.MaxPool2d):\n",
    "                continue\n",
    "            if isinstance(module, nn.Linear):\n",
    "                self.net.append(nn.Flatten(1))\n",
    "            self.net.append(module)\n",
    "\n",
    "        self.net = nn.Sequential(*self.net)\n",
    "\n",
    "    def forward(self, x):\n",
    "        x = self.net(x)\n",
    "        # note: not normalized here\n",
    "        return x"
   ]
  },
  {
   "cell_type": "markdown",
   "metadata": {
    "id": "jJFOHlOBpLay"
   },
   "source": [
    "### Define MoCo wrapper"
   ]
  },
  {
   "cell_type": "code",
   "execution_count": 6,
   "metadata": {
    "cellView": "both",
    "colab": {
     "base_uri": "https://localhost:8080/"
    },
    "id": "lzFyFnhbk8hj",
    "outputId": "7fa49915-2d56-4f60-f819-a6ce4b42cf42"
   },
   "outputs": [
    {
     "name": "stdout",
     "output_type": "stream",
     "text": [
      "ModelBase(\n",
      "  (net): Sequential(\n",
      "    (0): Conv2d(1, 64, kernel_size=(3, 3), stride=(1, 1), padding=(1, 1), bias=False)\n",
      "    (1): SplitBatchNorm(64, eps=1e-05, momentum=0.1, affine=True, track_running_stats=True)\n",
      "    (2): ReLU(inplace=True)\n",
      "    (3): Sequential(\n",
      "      (0): BasicBlock(\n",
      "        (conv1): Conv2d(64, 64, kernel_size=(3, 3), stride=(1, 1), padding=(1, 1), bias=False)\n",
      "        (bn1): SplitBatchNorm(64, eps=1e-05, momentum=0.1, affine=True, track_running_stats=True)\n",
      "        (relu): ReLU(inplace=True)\n",
      "        (conv2): Conv2d(64, 64, kernel_size=(3, 3), stride=(1, 1), padding=(1, 1), bias=False)\n",
      "        (bn2): SplitBatchNorm(64, eps=1e-05, momentum=0.1, affine=True, track_running_stats=True)\n",
      "      )\n",
      "      (1): BasicBlock(\n",
      "        (conv1): Conv2d(64, 64, kernel_size=(3, 3), stride=(1, 1), padding=(1, 1), bias=False)\n",
      "        (bn1): SplitBatchNorm(64, eps=1e-05, momentum=0.1, affine=True, track_running_stats=True)\n",
      "        (relu): ReLU(inplace=True)\n",
      "        (conv2): Conv2d(64, 64, kernel_size=(3, 3), stride=(1, 1), padding=(1, 1), bias=False)\n",
      "        (bn2): SplitBatchNorm(64, eps=1e-05, momentum=0.1, affine=True, track_running_stats=True)\n",
      "      )\n",
      "    )\n",
      "    (4): Sequential(\n",
      "      (0): BasicBlock(\n",
      "        (conv1): Conv2d(64, 128, kernel_size=(3, 3), stride=(2, 2), padding=(1, 1), bias=False)\n",
      "        (bn1): SplitBatchNorm(128, eps=1e-05, momentum=0.1, affine=True, track_running_stats=True)\n",
      "        (relu): ReLU(inplace=True)\n",
      "        (conv2): Conv2d(128, 128, kernel_size=(3, 3), stride=(1, 1), padding=(1, 1), bias=False)\n",
      "        (bn2): SplitBatchNorm(128, eps=1e-05, momentum=0.1, affine=True, track_running_stats=True)\n",
      "        (downsample): Sequential(\n",
      "          (0): Conv2d(64, 128, kernel_size=(1, 1), stride=(2, 2), bias=False)\n",
      "          (1): SplitBatchNorm(128, eps=1e-05, momentum=0.1, affine=True, track_running_stats=True)\n",
      "        )\n",
      "      )\n",
      "      (1): BasicBlock(\n",
      "        (conv1): Conv2d(128, 128, kernel_size=(3, 3), stride=(1, 1), padding=(1, 1), bias=False)\n",
      "        (bn1): SplitBatchNorm(128, eps=1e-05, momentum=0.1, affine=True, track_running_stats=True)\n",
      "        (relu): ReLU(inplace=True)\n",
      "        (conv2): Conv2d(128, 128, kernel_size=(3, 3), stride=(1, 1), padding=(1, 1), bias=False)\n",
      "        (bn2): SplitBatchNorm(128, eps=1e-05, momentum=0.1, affine=True, track_running_stats=True)\n",
      "      )\n",
      "    )\n",
      "    (5): Sequential(\n",
      "      (0): BasicBlock(\n",
      "        (conv1): Conv2d(128, 256, kernel_size=(3, 3), stride=(2, 2), padding=(1, 1), bias=False)\n",
      "        (bn1): SplitBatchNorm(256, eps=1e-05, momentum=0.1, affine=True, track_running_stats=True)\n",
      "        (relu): ReLU(inplace=True)\n",
      "        (conv2): Conv2d(256, 256, kernel_size=(3, 3), stride=(1, 1), padding=(1, 1), bias=False)\n",
      "        (bn2): SplitBatchNorm(256, eps=1e-05, momentum=0.1, affine=True, track_running_stats=True)\n",
      "        (downsample): Sequential(\n",
      "          (0): Conv2d(128, 256, kernel_size=(1, 1), stride=(2, 2), bias=False)\n",
      "          (1): SplitBatchNorm(256, eps=1e-05, momentum=0.1, affine=True, track_running_stats=True)\n",
      "        )\n",
      "      )\n",
      "      (1): BasicBlock(\n",
      "        (conv1): Conv2d(256, 256, kernel_size=(3, 3), stride=(1, 1), padding=(1, 1), bias=False)\n",
      "        (bn1): SplitBatchNorm(256, eps=1e-05, momentum=0.1, affine=True, track_running_stats=True)\n",
      "        (relu): ReLU(inplace=True)\n",
      "        (conv2): Conv2d(256, 256, kernel_size=(3, 3), stride=(1, 1), padding=(1, 1), bias=False)\n",
      "        (bn2): SplitBatchNorm(256, eps=1e-05, momentum=0.1, affine=True, track_running_stats=True)\n",
      "      )\n",
      "    )\n",
      "    (6): Sequential(\n",
      "      (0): BasicBlock(\n",
      "        (conv1): Conv2d(256, 512, kernel_size=(3, 3), stride=(2, 2), padding=(1, 1), bias=False)\n",
      "        (bn1): SplitBatchNorm(512, eps=1e-05, momentum=0.1, affine=True, track_running_stats=True)\n",
      "        (relu): ReLU(inplace=True)\n",
      "        (conv2): Conv2d(512, 512, kernel_size=(3, 3), stride=(1, 1), padding=(1, 1), bias=False)\n",
      "        (bn2): SplitBatchNorm(512, eps=1e-05, momentum=0.1, affine=True, track_running_stats=True)\n",
      "        (downsample): Sequential(\n",
      "          (0): Conv2d(256, 512, kernel_size=(1, 1), stride=(2, 2), bias=False)\n",
      "          (1): SplitBatchNorm(512, eps=1e-05, momentum=0.1, affine=True, track_running_stats=True)\n",
      "        )\n",
      "      )\n",
      "      (1): BasicBlock(\n",
      "        (conv1): Conv2d(512, 512, kernel_size=(3, 3), stride=(1, 1), padding=(1, 1), bias=False)\n",
      "        (bn1): SplitBatchNorm(512, eps=1e-05, momentum=0.1, affine=True, track_running_stats=True)\n",
      "        (relu): ReLU(inplace=True)\n",
      "        (conv2): Conv2d(512, 512, kernel_size=(3, 3), stride=(1, 1), padding=(1, 1), bias=False)\n",
      "        (bn2): SplitBatchNorm(512, eps=1e-05, momentum=0.1, affine=True, track_running_stats=True)\n",
      "      )\n",
      "    )\n",
      "    (7): AdaptiveAvgPool2d(output_size=(1, 1))\n",
      "    (8): Flatten(start_dim=1, end_dim=-1)\n",
      "    (9): Linear(in_features=512, out_features=128, bias=True)\n",
      "  )\n",
      ")\n"
     ]
    }
   ],
   "source": [
    "class ModelMoCo(nn.Module):\n",
    "    def __init__(self, dim=128, K=4096, m=0.99, T=0.1, arch='resnet18', bn_splits=8, symmetric=True):\n",
    "        super(ModelMoCo, self).__init__()\n",
    "\n",
    "        self.K = K\n",
    "        self.m = m\n",
    "        self.T = T\n",
    "        self.symmetric = symmetric\n",
    "\n",
    "        # create the encoders\n",
    "        self.encoder_q = ModelBase(feature_dim=dim, arch=arch, bn_splits=bn_splits)\n",
    "        self.encoder_k = ModelBase(feature_dim=dim, arch=arch, bn_splits=bn_splits)\n",
    "\n",
    "        for param_q, param_k in zip(self.encoder_q.parameters(), self.encoder_k.parameters()):\n",
    "            param_k.data.copy_(param_q.data)  # initialize\n",
    "            param_k.requires_grad = False  # not update by gradient\n",
    "\n",
    "        # create the queue\n",
    "        self.register_buffer(\"queue\", torch.randn(dim, K))\n",
    "        self.queue = nn.functional.normalize(self.queue, dim=0)\n",
    "\n",
    "        self.register_buffer(\"queue_ptr\", torch.zeros(1, dtype=torch.long))\n",
    "\n",
    "    @torch.no_grad()\n",
    "    def _momentum_update_key_encoder(self):\n",
    "        \"\"\"\n",
    "        Momentum update of the key encoder\n",
    "        \"\"\"\n",
    "        for param_q, param_k in zip(self.encoder_q.parameters(), self.encoder_k.parameters()):\n",
    "            param_k.data = param_k.data * self.m + param_q.data * (1. - self.m)\n",
    "\n",
    "    @torch.no_grad()\n",
    "    def _dequeue_and_enqueue(self, keys):\n",
    "        batch_size = keys.shape[0]\n",
    "\n",
    "        ptr = int(self.queue_ptr)\n",
    "        assert self.K % batch_size == 0  # for simplicity\n",
    "\n",
    "        # replace the keys at ptr (dequeue and enqueue)\n",
    "        self.queue[:, ptr:ptr + batch_size] = keys.t()  # transpose\n",
    "        ptr = (ptr + batch_size) % self.K  # move pointer\n",
    "\n",
    "        self.queue_ptr[0] = ptr\n",
    "\n",
    "    @torch.no_grad()\n",
    "    def _batch_shuffle_single_gpu(self, x):\n",
    "        \"\"\"\n",
    "        Batch shuffle, for making use of BatchNorm.\n",
    "        \"\"\"\n",
    "        # random shuffle index\n",
    "        idx_shuffle = torch.randperm(x.shape[0]).cuda()\n",
    "\n",
    "        # index for restoring\n",
    "        idx_unshuffle = torch.argsort(idx_shuffle)\n",
    "\n",
    "        return x[idx_shuffle], idx_unshuffle\n",
    "\n",
    "    @torch.no_grad()\n",
    "    def _batch_unshuffle_single_gpu(self, x, idx_unshuffle):\n",
    "        \"\"\"\n",
    "        Undo batch shuffle.\n",
    "        \"\"\"\n",
    "        return x[idx_unshuffle]\n",
    "\n",
    "    def contrastive_loss(self, im_q, im_k):\n",
    "        # compute query features\n",
    "        q = self.encoder_q(im_q)  # queries: NxC\n",
    "        q = nn.functional.normalize(q, dim=1)  # already normalized\n",
    "\n",
    "        # compute key features\n",
    "        with torch.no_grad():  # no gradient to keys\n",
    "            # shuffle for making use of BN\n",
    "            im_k_, idx_unshuffle = self._batch_shuffle_single_gpu(im_k)\n",
    "\n",
    "            k = self.encoder_k(im_k_)  # keys: NxC\n",
    "            k = nn.functional.normalize(k, dim=1)  # already normalized\n",
    "\n",
    "            # undo shuffle\n",
    "            k = self._batch_unshuffle_single_gpu(k, idx_unshuffle)\n",
    "\n",
    "        # compute logits\n",
    "        # Einstein sum is more intuitive\n",
    "        # positive logits: Nx1\n",
    "        l_pos = torch.einsum('nc,nc->n', [q, k]).unsqueeze(-1)\n",
    "        # negative logits: NxK\n",
    "        l_neg = torch.einsum('nc,ck->nk', [q, self.queue.clone().detach()])\n",
    "\n",
    "        # logits: Nx(1+K)\n",
    "        logits = torch.cat([l_pos, l_neg], dim=1)\n",
    "\n",
    "        # apply temperature\n",
    "        logits /= self.T\n",
    "\n",
    "        # labels: positive key indicators\n",
    "        labels = torch.zeros(logits.shape[0], dtype=torch.long).cuda()\n",
    "\n",
    "        loss = nn.CrossEntropyLoss().cuda()(logits, labels)\n",
    "\n",
    "        return loss, q, k\n",
    "\n",
    "    def forward(self, im1, im2):\n",
    "        \"\"\"\n",
    "        Input:\n",
    "            im_q: a batch of query images\n",
    "            im_k: a batch of key images\n",
    "        Output:\n",
    "            loss\n",
    "        \"\"\"\n",
    "\n",
    "        # update the key encoder\n",
    "        with torch.no_grad():  # no gradient to keys\n",
    "            self._momentum_update_key_encoder()\n",
    "\n",
    "        # compute loss\n",
    "        if self.symmetric:  # asymmetric loss\n",
    "            loss_12, q1, k2 = self.contrastive_loss(im1, im2)\n",
    "            loss_21, q2, k1 = self.contrastive_loss(im2, im1)\n",
    "            loss = loss_12 + loss_21\n",
    "            k = torch.cat([k1, k2], dim=0)\n",
    "        else:  # asymmetric loss\n",
    "            loss, q, k = self.contrastive_loss(im1, im2)\n",
    "\n",
    "        self._dequeue_and_enqueue(k)\n",
    "\n",
    "        return loss\n",
    "\n",
    "# create model\n",
    "model = ModelMoCo(\n",
    "        dim=args.moco_dim,\n",
    "        K=args.moco_k,\n",
    "        m=args.moco_m,\n",
    "        T=args.moco_t,\n",
    "        arch=args.arch,\n",
    "        bn_splits=args.bn_splits,\n",
    "        symmetric=args.symmetric,\n",
    "    ).cuda()\n",
    "print(model.encoder_q)"
   ]
  },
  {
   "cell_type": "markdown",
   "metadata": {
    "id": "9YXcpXBwi8KV"
   },
   "source": [
    "### Define train/test\n",
    "\n"
   ]
  },
  {
   "cell_type": "code",
   "execution_count": 7,
   "metadata": {
    "id": "DBKFqboqnqty"
   },
   "outputs": [],
   "source": [
    "# train for one epoch\n",
    "def train(net, data_loader, train_optimizer, epoch, args):\n",
    "    net.train()\n",
    "    adjust_learning_rate(optimizer, epoch, args)\n",
    "\n",
    "    total_loss, total_num, train_bar = 0.0, 0, tqdm(data_loader)\n",
    "    for im_1, im_2 in train_bar:\n",
    "        im_1, im_2 = im_1.cuda(non_blocking=True), im_2.cuda(non_blocking=True)\n",
    "\n",
    "        loss = net(im_1, im_2)\n",
    "\n",
    "        train_optimizer.zero_grad()\n",
    "        loss.backward()\n",
    "        train_optimizer.step()\n",
    "\n",
    "        total_num += data_loader.batch_size\n",
    "        total_loss += loss.item() * data_loader.batch_size\n",
    "        train_bar.set_description('Train Epoch: [{}/{}], lr: {:.6f}, Loss: {:.4f}'.format(epoch, args.epochs, optimizer.param_groups[0]['lr'], total_loss / total_num))\n",
    "\n",
    "    return total_loss / total_num\n",
    "\n",
    "# lr scheduler for training\n",
    "def adjust_learning_rate(optimizer, epoch, args):\n",
    "    \"\"\"Decay the learning rate based on schedule\"\"\"\n",
    "    lr = args.lr\n",
    "    if args.cos:  # cosine lr schedule\n",
    "        lr *= 0.5 * (1. + math.cos(math.pi * epoch / args.epochs))\n",
    "    else:  # stepwise lr schedule\n",
    "        for milestone in args.schedule:\n",
    "            lr *= 0.1 if epoch >= milestone else 1.\n",
    "    for param_group in optimizer.param_groups:\n",
    "        param_group['lr'] = lr"
   ]
  },
  {
   "cell_type": "code",
   "execution_count": 8,
   "metadata": {
    "cellView": "both",
    "id": "RI1Y8bSImD7N"
   },
   "outputs": [],
   "source": [
    "# test using a knn monitor\n",
    "def test(net, memory_data_loader, test_data_loader, epoch, args):\n",
    "    net.eval()\n",
    "    #classes = len(memory_data_loader.dataset.classes)\n",
    "    classes = 600\n",
    "    total_top1, total_top5, total_num, feature_bank = 0.0, 0.0, 0, []\n",
    "    with torch.no_grad():\n",
    "        # generate feature bank\n",
    "        for data, target in tqdm(memory_data_loader, desc='Feature extracting'):\n",
    "            feature = net(data.cuda(non_blocking=True))\n",
    "            feature = F.normalize(feature, dim=1)\n",
    "            feature_bank.append(feature)\n",
    "        # [D, N]\n",
    "        feature_bank = torch.cat(feature_bank, dim=0).t().contiguous()\n",
    "        # [N]\n",
    "        feature_labels = torch.tensor(memory_data_loader.dataset.targets, device=feature_bank.device)\n",
    "        # loop test data to predict the label by weighted knn search\n",
    "        test_bar = tqdm(test_data_loader)\n",
    "        for data, target in test_bar:\n",
    "            data, target = data.cuda(non_blocking=True), target.cuda(non_blocking=True)\n",
    "            feature = net(data)\n",
    "            feature = F.normalize(feature, dim=1)\n",
    "\n",
    "            pred_labels = knn_predict(feature, feature_bank, feature_labels, classes, args.knn_k, args.knn_t)\n",
    "\n",
    "            total_num += data.size(0)\n",
    "            total_top1 += (pred_labels[:, 0] == target).float().sum().item()\n",
    "            test_bar.set_description('Test Epoch: [{}/{}] Acc@1:{:.2f}%'.format(epoch, args.epochs, total_top1 / total_num * 100))\n",
    "\n",
    "    return total_top1 / total_num * 100\n",
    "\n",
    "# knn monitor as in InstDisc https://arxiv.org/abs/1805.01978\n",
    "# implementation follows http://github.com/zhirongw/lemniscate.pytorch and https://github.com/leftthomas/SimCLR\n",
    "def knn_predict(feature, feature_bank, feature_labels, classes, knn_k, knn_t):\n",
    "    # compute cos similarity between each feature vector and feature bank ---> [B, N]\n",
    "    sim_matrix = torch.mm(feature, feature_bank)\n",
    "    # [B, K]\n",
    "    sim_weight, sim_indices = sim_matrix.topk(k=knn_k, dim=-1)\n",
    "    # [B, K]\n",
    "    sim_labels = torch.gather(feature_labels.expand(feature.size(0), -1), dim=-1, index=sim_indices)\n",
    "    sim_weight = (sim_weight / knn_t).exp()\n",
    "\n",
    "    # counts for each class\n",
    "    one_hot_label = torch.zeros(feature.size(0) * knn_k, classes, device=sim_labels.device)\n",
    "    # [B*K, C]\n",
    "    one_hot_label = one_hot_label.scatter(dim=-1, index=sim_labels.view(-1, 1), value=1.0)\n",
    "    # weighted score ---> [B, C]\n",
    "    pred_scores = torch.sum(one_hot_label.view(feature.size(0), -1, classes) * sim_weight.unsqueeze(dim=-1), dim=1)\n",
    "\n",
    "    pred_labels = pred_scores.argsort(dim=-1, descending=True)\n",
    "    return pred_labels"
   ]
  },
  {
   "cell_type": "code",
   "execution_count": 9,
   "metadata": {},
   "outputs": [],
   "source": [
    "def create_output_model_path(args, version=0):\n",
    "    model_path = os.path.join('model', 'selfsup', 'moco',\n",
    "                                  '{}-classes_{}-featureDim_{}-queueSize_{}-epochsize_{}-'\n",
    "                                  'bsize_{}-tepochs_{}_{}'.format(\n",
    "                                      args.arch, args.classes, args.moco_dim, args.moco_k, args.epoch_size, args.batch_size, args.epochs, version))\n",
    "\n",
    "    if os.path.exists(model_path):\n",
    "        return create_output_model_path(args, version=version + 1)\n",
    "    else:\n",
    "        os.makedirs(model_path)\n",
    "        return model_path"
   ]
  },
  {
   "cell_type": "markdown",
   "metadata": {
    "id": "86lHkiKox3KO"
   },
   "source": [
    "### Start training"
   ]
  },
  {
   "cell_type": "code",
   "execution_count": 10,
   "metadata": {
    "colab": {
     "base_uri": "https://localhost:8080/"
    },
    "id": "M3INyoTC3-bf",
    "outputId": "4b7cae8c-5cef-4aa8-d220-64c3e6b49a28"
   },
   "outputs": [
    {
     "name": "stderr",
     "output_type": "stream",
     "text": [
      "Train Epoch: [1/200], lr: 0.059996, Loss: 6.0669: 100%|██████████| 242/242 [00:13<00:00, 18.34it/s]\n",
      "Feature extracting: 100%|██████████| 243/243 [00:02<00:00, 113.91it/s]\n",
      "Test Epoch: [1/200] Acc@1:3.07%: 100%|██████████| 31/31 [00:00<00:00, 45.11it/s]\n",
      "  0%|          | 0/242 [00:00<?, ?it/s]"
     ]
    },
    {
     "name": "stdout",
     "output_type": "stream",
     "text": [
      "Best model found at epoch 2, saving model\n"
     ]
    },
    {
     "name": "stderr",
     "output_type": "stream",
     "text": [
      "Train Epoch: [2/200], lr: 0.059985, Loss: 6.4333: 100%|██████████| 242/242 [00:13<00:00, 18.47it/s]\n",
      "Feature extracting: 100%|██████████| 243/243 [00:02<00:00, 113.60it/s]\n",
      "Test Epoch: [2/200] Acc@1:2.92%: 100%|██████████| 31/31 [00:00<00:00, 45.71it/s]\n",
      "Train Epoch: [3/200], lr: 0.059967, Loss: 6.3551: 100%|██████████| 242/242 [00:13<00:00, 18.40it/s]\n",
      "Feature extracting: 100%|██████████| 243/243 [00:02<00:00, 113.39it/s]\n",
      "Test Epoch: [3/200] Acc@1:2.79%: 100%|██████████| 31/31 [00:00<00:00, 46.02it/s]\n",
      "Train Epoch: [4/200], lr: 0.059941, Loss: 6.1734: 100%|██████████| 242/242 [00:13<00:00, 18.38it/s]\n",
      "Feature extracting: 100%|██████████| 243/243 [00:02<00:00, 113.47it/s]\n",
      "Test Epoch: [4/200] Acc@1:3.84%: 100%|██████████| 31/31 [00:00<00:00, 46.11it/s]\n",
      "  0%|          | 0/242 [00:00<?, ?it/s]"
     ]
    },
    {
     "name": "stdout",
     "output_type": "stream",
     "text": [
      "Best model found at epoch 5, saving model\n"
     ]
    },
    {
     "name": "stderr",
     "output_type": "stream",
     "text": [
      "Train Epoch: [5/200], lr: 0.059908, Loss: 5.7990: 100%|██████████| 242/242 [00:13<00:00, 18.37it/s]\n",
      "Feature extracting: 100%|██████████| 243/243 [00:02<00:00, 113.60it/s]\n",
      "Test Epoch: [5/200] Acc@1:4.73%: 100%|██████████| 31/31 [00:00<00:00, 43.53it/s]\n",
      "  0%|          | 0/242 [00:00<?, ?it/s]"
     ]
    },
    {
     "name": "stdout",
     "output_type": "stream",
     "text": [
      "Best model found at epoch 6, saving model\n"
     ]
    },
    {
     "name": "stderr",
     "output_type": "stream",
     "text": [
      "Train Epoch: [6/200], lr: 0.059867, Loss: 5.5149: 100%|██████████| 242/242 [00:13<00:00, 18.35it/s]\n",
      "Feature extracting: 100%|██████████| 243/243 [00:02<00:00, 113.53it/s]\n",
      "Test Epoch: [6/200] Acc@1:5.02%: 100%|██████████| 31/31 [00:00<00:00, 43.26it/s]\n",
      "  0%|          | 0/242 [00:00<?, ?it/s]"
     ]
    },
    {
     "name": "stdout",
     "output_type": "stream",
     "text": [
      "Best model found at epoch 7, saving model\n"
     ]
    },
    {
     "name": "stderr",
     "output_type": "stream",
     "text": [
      "Train Epoch: [7/200], lr: 0.059819, Loss: 5.3558: 100%|██████████| 242/242 [00:13<00:00, 18.33it/s]\n",
      "Feature extracting: 100%|██████████| 243/243 [00:02<00:00, 103.89it/s]\n",
      "Test Epoch: [7/200] Acc@1:5.73%: 100%|██████████| 31/31 [00:00<00:00, 45.58it/s]\n",
      "  0%|          | 0/242 [00:00<?, ?it/s]"
     ]
    },
    {
     "name": "stdout",
     "output_type": "stream",
     "text": [
      "Best model found at epoch 8, saving model\n"
     ]
    },
    {
     "name": "stderr",
     "output_type": "stream",
     "text": [
      "Train Epoch: [8/200], lr: 0.059763, Loss: 5.2252: 100%|██████████| 242/242 [00:13<00:00, 18.33it/s]\n",
      "Feature extracting: 100%|██████████| 243/243 [00:02<00:00, 112.82it/s]\n",
      "Test Epoch: [8/200] Acc@1:7.01%: 100%|██████████| 31/31 [00:00<00:00, 45.90it/s]\n",
      "  0%|          | 0/242 [00:00<?, ?it/s]"
     ]
    },
    {
     "name": "stdout",
     "output_type": "stream",
     "text": [
      "Best model found at epoch 9, saving model\n"
     ]
    },
    {
     "name": "stderr",
     "output_type": "stream",
     "text": [
      "Train Epoch: [9/200], lr: 0.059701, Loss: 5.0376: 100%|██████████| 242/242 [00:13<00:00, 18.35it/s]\n",
      "Feature extracting: 100%|██████████| 243/243 [00:02<00:00, 112.99it/s]\n",
      "Test Epoch: [9/200] Acc@1:8.55%: 100%|██████████| 31/31 [00:00<00:00, 44.30it/s]\n",
      "  0%|          | 0/242 [00:00<?, ?it/s]"
     ]
    },
    {
     "name": "stdout",
     "output_type": "stream",
     "text": [
      "Best model found at epoch 10, saving model\n"
     ]
    },
    {
     "name": "stderr",
     "output_type": "stream",
     "text": [
      "Train Epoch: [10/200], lr: 0.059631, Loss: 4.9029: 100%|██████████| 242/242 [00:13<00:00, 18.29it/s]\n",
      "Feature extracting: 100%|██████████| 243/243 [00:02<00:00, 112.79it/s]\n",
      "Test Epoch: [10/200] Acc@1:11.00%: 100%|██████████| 31/31 [00:00<00:00, 43.68it/s]\n",
      "  0%|          | 0/242 [00:00<?, ?it/s]"
     ]
    },
    {
     "name": "stdout",
     "output_type": "stream",
     "text": [
      "Best model found at epoch 11, saving model\n"
     ]
    },
    {
     "name": "stderr",
     "output_type": "stream",
     "text": [
      "Train Epoch: [11/200], lr: 0.059553, Loss: 4.7741: 100%|██████████| 242/242 [00:13<00:00, 18.26it/s]\n",
      "Feature extracting: 100%|██████████| 243/243 [00:02<00:00, 112.80it/s]\n",
      "Test Epoch: [11/200] Acc@1:12.26%: 100%|██████████| 31/31 [00:00<00:00, 43.96it/s]\n",
      "  0%|          | 0/242 [00:00<?, ?it/s]"
     ]
    },
    {
     "name": "stdout",
     "output_type": "stream",
     "text": [
      "Best model found at epoch 12, saving model\n"
     ]
    },
    {
     "name": "stderr",
     "output_type": "stream",
     "text": [
      "Train Epoch: [12/200], lr: 0.059469, Loss: 4.6951: 100%|██████████| 242/242 [00:13<00:00, 18.28it/s]\n",
      "Feature extracting: 100%|██████████| 243/243 [00:02<00:00, 101.39it/s]\n",
      "Test Epoch: [12/200] Acc@1:11.59%: 100%|██████████| 31/31 [00:00<00:00, 46.08it/s]\n",
      "Train Epoch: [13/200], lr: 0.059377, Loss: 4.6124: 100%|██████████| 242/242 [00:13<00:00, 18.35it/s]\n",
      "Feature extracting: 100%|██████████| 243/243 [00:02<00:00, 112.64it/s]\n",
      "Test Epoch: [13/200] Acc@1:14.20%: 100%|██████████| 31/31 [00:00<00:00, 44.94it/s]\n",
      "  0%|          | 0/242 [00:00<?, ?it/s]"
     ]
    },
    {
     "name": "stdout",
     "output_type": "stream",
     "text": [
      "Best model found at epoch 14, saving model\n"
     ]
    },
    {
     "name": "stderr",
     "output_type": "stream",
     "text": [
      "Train Epoch: [14/200], lr: 0.059278, Loss: 4.5173: 100%|██████████| 242/242 [00:13<00:00, 18.29it/s]\n",
      "Feature extracting: 100%|██████████| 243/243 [00:02<00:00, 113.04it/s]\n",
      "Test Epoch: [14/200] Acc@1:16.66%: 100%|██████████| 31/31 [00:00<00:00, 45.40it/s]\n",
      "  0%|          | 0/242 [00:00<?, ?it/s]"
     ]
    },
    {
     "name": "stdout",
     "output_type": "stream",
     "text": [
      "Best model found at epoch 15, saving model\n"
     ]
    },
    {
     "name": "stderr",
     "output_type": "stream",
     "text": [
      "Train Epoch: [15/200], lr: 0.059171, Loss: 4.4438: 100%|██████████| 242/242 [00:13<00:00, 18.31it/s]\n",
      "Feature extracting: 100%|██████████| 243/243 [00:02<00:00, 112.73it/s]\n",
      "Test Epoch: [15/200] Acc@1:19.96%: 100%|██████████| 31/31 [00:00<00:00, 43.16it/s]\n",
      "  0%|          | 0/242 [00:00<?, ?it/s]"
     ]
    },
    {
     "name": "stdout",
     "output_type": "stream",
     "text": [
      "Best model found at epoch 16, saving model\n"
     ]
    },
    {
     "name": "stderr",
     "output_type": "stream",
     "text": [
      "Train Epoch: [16/200], lr: 0.059057, Loss: 4.3777: 100%|██████████| 242/242 [00:13<00:00, 18.27it/s]\n",
      "Feature extracting: 100%|██████████| 243/243 [00:02<00:00, 112.57it/s]\n",
      "Test Epoch: [16/200] Acc@1:23.85%: 100%|██████████| 31/31 [00:00<00:00, 44.95it/s]\n",
      "  0%|          | 0/242 [00:00<?, ?it/s]"
     ]
    },
    {
     "name": "stdout",
     "output_type": "stream",
     "text": [
      "Best model found at epoch 17, saving model\n"
     ]
    },
    {
     "name": "stderr",
     "output_type": "stream",
     "text": [
      "Train Epoch: [17/200], lr: 0.058937, Loss: 4.3034: 100%|██████████| 242/242 [00:13<00:00, 18.29it/s]\n",
      "Feature extracting: 100%|██████████| 243/243 [00:02<00:00, 102.61it/s]\n",
      "Test Epoch: [17/200] Acc@1:26.07%: 100%|██████████| 31/31 [00:00<00:00, 43.75it/s]\n",
      "  0%|          | 0/242 [00:00<?, ?it/s]"
     ]
    },
    {
     "name": "stdout",
     "output_type": "stream",
     "text": [
      "Best model found at epoch 18, saving model\n"
     ]
    },
    {
     "name": "stderr",
     "output_type": "stream",
     "text": [
      "Train Epoch: [18/200], lr: 0.058809, Loss: 4.2465: 100%|██████████| 242/242 [00:13<00:00, 18.25it/s]\n",
      "Feature extracting: 100%|██████████| 243/243 [00:02<00:00, 112.74it/s]\n",
      "Test Epoch: [18/200] Acc@1:30.63%: 100%|██████████| 31/31 [00:00<00:00, 44.83it/s]\n",
      "  0%|          | 0/242 [00:00<?, ?it/s]"
     ]
    },
    {
     "name": "stdout",
     "output_type": "stream",
     "text": [
      "Best model found at epoch 19, saving model\n"
     ]
    },
    {
     "name": "stderr",
     "output_type": "stream",
     "text": [
      "Train Epoch: [19/200], lr: 0.058674, Loss: 4.1975: 100%|██████████| 242/242 [00:13<00:00, 18.28it/s]\n",
      "Feature extracting: 100%|██████████| 243/243 [00:02<00:00, 103.54it/s]\n",
      "Test Epoch: [19/200] Acc@1:30.58%: 100%|██████████| 31/31 [00:00<00:00, 43.93it/s]\n",
      "Train Epoch: [20/200], lr: 0.058532, Loss: 4.1271: 100%|██████████| 242/242 [00:13<00:00, 18.23it/s]\n",
      "Feature extracting: 100%|██████████| 243/243 [00:02<00:00, 103.74it/s]\n",
      "Test Epoch: [20/200] Acc@1:33.44%: 100%|██████████| 31/31 [00:00<00:00, 45.28it/s]\n",
      "  0%|          | 0/242 [00:00<?, ?it/s]"
     ]
    },
    {
     "name": "stdout",
     "output_type": "stream",
     "text": [
      "Best model found at epoch 21, saving model\n"
     ]
    },
    {
     "name": "stderr",
     "output_type": "stream",
     "text": [
      "Train Epoch: [21/200], lr: 0.058383, Loss: 4.0457: 100%|██████████| 242/242 [00:13<00:00, 18.22it/s]\n",
      "Feature extracting: 100%|██████████| 243/243 [00:02<00:00, 104.72it/s]\n",
      "Test Epoch: [21/200] Acc@1:37.69%: 100%|██████████| 31/31 [00:00<00:00, 43.92it/s]\n",
      "  0%|          | 0/242 [00:00<?, ?it/s]"
     ]
    },
    {
     "name": "stdout",
     "output_type": "stream",
     "text": [
      "Best model found at epoch 22, saving model\n"
     ]
    },
    {
     "name": "stderr",
     "output_type": "stream",
     "text": [
      "Train Epoch: [22/200], lr: 0.058226, Loss: 3.9653: 100%|██████████| 242/242 [00:13<00:00, 18.26it/s]\n",
      "Feature extracting: 100%|██████████| 243/243 [00:02<00:00, 103.54it/s]\n",
      "Test Epoch: [22/200] Acc@1:44.01%: 100%|██████████| 31/31 [00:00<00:00, 44.49it/s]\n",
      "  0%|          | 0/242 [00:00<?, ?it/s]"
     ]
    },
    {
     "name": "stdout",
     "output_type": "stream",
     "text": [
      "Best model found at epoch 23, saving model\n"
     ]
    },
    {
     "name": "stderr",
     "output_type": "stream",
     "text": [
      "Train Epoch: [23/200], lr: 0.058063, Loss: 3.9188: 100%|██████████| 242/242 [00:13<00:00, 18.24it/s]\n",
      "Feature extracting: 100%|██████████| 243/243 [00:02<00:00, 103.23it/s]\n",
      "Test Epoch: [23/200] Acc@1:41.25%: 100%|██████████| 31/31 [00:00<00:00, 43.59it/s]\n",
      "Train Epoch: [24/200], lr: 0.057893, Loss: 3.8304: 100%|██████████| 242/242 [00:13<00:00, 18.25it/s]\n",
      "Feature extracting: 100%|██████████| 243/243 [00:02<00:00, 102.09it/s]\n",
      "Test Epoch: [24/200] Acc@1:46.75%: 100%|██████████| 31/31 [00:00<00:00, 44.63it/s]\n",
      "  0%|          | 0/242 [00:00<?, ?it/s]"
     ]
    },
    {
     "name": "stdout",
     "output_type": "stream",
     "text": [
      "Best model found at epoch 25, saving model\n"
     ]
    },
    {
     "name": "stderr",
     "output_type": "stream",
     "text": [
      "Train Epoch: [25/200], lr: 0.057716, Loss: 3.7620: 100%|██████████| 242/242 [00:13<00:00, 18.26it/s]\n",
      "Feature extracting: 100%|██████████| 243/243 [00:02<00:00, 103.49it/s]\n",
      "Test Epoch: [25/200] Acc@1:49.26%: 100%|██████████| 31/31 [00:00<00:00, 45.36it/s]\n",
      "  0%|          | 0/242 [00:00<?, ?it/s]"
     ]
    },
    {
     "name": "stdout",
     "output_type": "stream",
     "text": [
      "Best model found at epoch 26, saving model\n"
     ]
    },
    {
     "name": "stderr",
     "output_type": "stream",
     "text": [
      "Train Epoch: [26/200], lr: 0.057533, Loss: 3.6649: 100%|██████████| 242/242 [00:13<00:00, 18.28it/s]\n",
      "Feature extracting: 100%|██████████| 243/243 [00:02<00:00, 103.90it/s]\n",
      "Test Epoch: [26/200] Acc@1:50.54%: 100%|██████████| 31/31 [00:00<00:00, 45.40it/s]\n",
      "  0%|          | 0/242 [00:00<?, ?it/s]"
     ]
    },
    {
     "name": "stdout",
     "output_type": "stream",
     "text": [
      "Best model found at epoch 27, saving model\n"
     ]
    },
    {
     "name": "stderr",
     "output_type": "stream",
     "text": [
      "Train Epoch: [27/200], lr: 0.057342, Loss: 3.6209: 100%|██████████| 242/242 [00:13<00:00, 18.28it/s]\n",
      "Feature extracting: 100%|██████████| 243/243 [00:02<00:00, 103.57it/s]\n",
      "Test Epoch: [27/200] Acc@1:54.02%: 100%|██████████| 31/31 [00:00<00:00, 45.79it/s]\n",
      "  0%|          | 0/242 [00:00<?, ?it/s]"
     ]
    },
    {
     "name": "stdout",
     "output_type": "stream",
     "text": [
      "Best model found at epoch 28, saving model\n"
     ]
    },
    {
     "name": "stderr",
     "output_type": "stream",
     "text": [
      "Train Epoch: [28/200], lr: 0.057145, Loss: 3.5682: 100%|██████████| 242/242 [00:13<00:00, 18.28it/s]\n",
      "Feature extracting: 100%|██████████| 243/243 [00:02<00:00, 102.98it/s]\n",
      "Test Epoch: [28/200] Acc@1:53.97%: 100%|██████████| 31/31 [00:00<00:00, 45.47it/s]\n",
      "Train Epoch: [29/200], lr: 0.056941, Loss: 3.5038: 100%|██████████| 242/242 [00:13<00:00, 18.24it/s]\n",
      "Feature extracting: 100%|██████████| 243/243 [00:02<00:00, 103.16it/s]\n",
      "Test Epoch: [29/200] Acc@1:54.68%: 100%|██████████| 31/31 [00:00<00:00, 44.05it/s]\n",
      "  0%|          | 0/242 [00:00<?, ?it/s]"
     ]
    },
    {
     "name": "stdout",
     "output_type": "stream",
     "text": [
      "Best model found at epoch 30, saving model\n"
     ]
    },
    {
     "name": "stderr",
     "output_type": "stream",
     "text": [
      "Train Epoch: [30/200], lr: 0.056730, Loss: 3.4635: 100%|██████████| 242/242 [00:13<00:00, 18.27it/s]\n",
      "Feature extracting: 100%|██████████| 243/243 [00:02<00:00, 103.74it/s]\n",
      "Test Epoch: [30/200] Acc@1:56.12%: 100%|██████████| 31/31 [00:00<00:00, 45.81it/s]\n",
      "  0%|          | 0/242 [00:00<?, ?it/s]"
     ]
    },
    {
     "name": "stdout",
     "output_type": "stream",
     "text": [
      "Best model found at epoch 31, saving model\n"
     ]
    },
    {
     "name": "stderr",
     "output_type": "stream",
     "text": [
      "Train Epoch: [31/200], lr: 0.056513, Loss: 3.4220: 100%|██████████| 242/242 [00:13<00:00, 18.25it/s]\n",
      "Feature extracting: 100%|██████████| 243/243 [00:02<00:00, 102.66it/s]\n",
      "Test Epoch: [31/200] Acc@1:56.65%: 100%|██████████| 31/31 [00:00<00:00, 44.15it/s]\n",
      "  0%|          | 0/242 [00:00<?, ?it/s]"
     ]
    },
    {
     "name": "stdout",
     "output_type": "stream",
     "text": [
      "Best model found at epoch 32, saving model\n"
     ]
    },
    {
     "name": "stderr",
     "output_type": "stream",
     "text": [
      "Train Epoch: [32/200], lr: 0.056289, Loss: 3.3758: 100%|██████████| 242/242 [00:13<00:00, 18.23it/s]\n",
      "Feature extracting: 100%|██████████| 243/243 [00:02<00:00, 103.97it/s]\n",
      "Test Epoch: [32/200] Acc@1:55.63%: 100%|██████████| 31/31 [00:00<00:00, 45.54it/s]\n",
      "Train Epoch: [33/200], lr: 0.056059, Loss: 3.3618: 100%|██████████| 242/242 [00:13<00:00, 18.22it/s]\n",
      "Feature extracting: 100%|██████████| 243/243 [00:02<00:00, 102.59it/s]\n",
      "Test Epoch: [33/200] Acc@1:53.97%: 100%|██████████| 31/31 [00:00<00:00, 43.81it/s]\n",
      "Train Epoch: [34/200], lr: 0.055822, Loss: 3.3004: 100%|██████████| 242/242 [00:13<00:00, 18.23it/s]\n",
      "Feature extracting: 100%|██████████| 243/243 [00:02<00:00, 103.13it/s]\n",
      "Test Epoch: [34/200] Acc@1:57.04%: 100%|██████████| 31/31 [00:00<00:00, 45.28it/s]\n",
      "  0%|          | 0/242 [00:00<?, ?it/s]"
     ]
    },
    {
     "name": "stdout",
     "output_type": "stream",
     "text": [
      "Best model found at epoch 35, saving model\n"
     ]
    },
    {
     "name": "stderr",
     "output_type": "stream",
     "text": [
      "Train Epoch: [35/200], lr: 0.055579, Loss: 3.2694: 100%|██████████| 242/242 [00:13<00:00, 18.26it/s]\n",
      "Feature extracting: 100%|██████████| 243/243 [00:02<00:00, 103.17it/s]\n",
      "Test Epoch: [35/200] Acc@1:56.68%: 100%|██████████| 31/31 [00:00<00:00, 43.66it/s]\n",
      "Train Epoch: [36/200], lr: 0.055330, Loss: 3.2445: 100%|██████████| 242/242 [00:13<00:00, 18.21it/s]\n",
      "Feature extracting: 100%|██████████| 243/243 [00:02<00:00, 103.38it/s]\n",
      "Test Epoch: [36/200] Acc@1:57.45%: 100%|██████████| 31/31 [00:00<00:00, 44.60it/s]\n",
      "  0%|          | 0/242 [00:00<?, ?it/s]"
     ]
    },
    {
     "name": "stdout",
     "output_type": "stream",
     "text": [
      "Best model found at epoch 37, saving model\n"
     ]
    },
    {
     "name": "stderr",
     "output_type": "stream",
     "text": [
      "Train Epoch: [37/200], lr: 0.055074, Loss: 3.2352: 100%|██████████| 242/242 [00:13<00:00, 18.25it/s]\n",
      "Feature extracting: 100%|██████████| 243/243 [00:02<00:00, 102.68it/s]\n",
      "Test Epoch: [37/200] Acc@1:58.62%: 100%|██████████| 31/31 [00:00<00:00, 44.40it/s]\n",
      "  0%|          | 0/242 [00:00<?, ?it/s]"
     ]
    },
    {
     "name": "stdout",
     "output_type": "stream",
     "text": [
      "Best model found at epoch 38, saving model\n"
     ]
    },
    {
     "name": "stderr",
     "output_type": "stream",
     "text": [
      "Train Epoch: [38/200], lr: 0.054812, Loss: 3.2006: 100%|██████████| 242/242 [00:13<00:00, 18.22it/s]\n",
      "Feature extracting: 100%|██████████| 243/243 [00:02<00:00, 101.23it/s]\n",
      "Test Epoch: [38/200] Acc@1:57.34%: 100%|██████████| 31/31 [00:00<00:00, 44.59it/s]\n",
      "Train Epoch: [39/200], lr: 0.054544, Loss: 3.1597: 100%|██████████| 242/242 [00:13<00:00, 18.24it/s]\n",
      "Feature extracting: 100%|██████████| 243/243 [00:02<00:00, 102.83it/s]\n",
      "Test Epoch: [39/200] Acc@1:56.65%: 100%|██████████| 31/31 [00:00<00:00, 43.52it/s]\n",
      "Train Epoch: [40/200], lr: 0.054271, Loss: 3.1322: 100%|██████████| 242/242 [00:13<00:00, 18.21it/s]\n",
      "Feature extracting: 100%|██████████| 243/243 [00:02<00:00, 103.60it/s]\n",
      "Test Epoch: [40/200] Acc@1:58.11%: 100%|██████████| 31/31 [00:00<00:00, 44.01it/s]\n",
      "Train Epoch: [41/200], lr: 0.053991, Loss: 3.1088: 100%|██████████| 242/242 [00:13<00:00, 18.23it/s]\n",
      "Feature extracting: 100%|██████████| 243/243 [00:02<00:00, 104.08it/s]\n",
      "Test Epoch: [41/200] Acc@1:58.57%: 100%|██████████| 31/31 [00:00<00:00, 44.98it/s]\n",
      "Train Epoch: [42/200], lr: 0.053705, Loss: 3.1025: 100%|██████████| 242/242 [00:13<00:00, 18.22it/s]\n",
      "Feature extracting: 100%|██████████| 243/243 [00:02<00:00, 103.49it/s]\n",
      "Test Epoch: [42/200] Acc@1:60.70%: 100%|██████████| 31/31 [00:00<00:00, 43.45it/s]\n",
      "  0%|          | 0/242 [00:00<?, ?it/s]"
     ]
    },
    {
     "name": "stdout",
     "output_type": "stream",
     "text": [
      "Best model found at epoch 43, saving model\n"
     ]
    },
    {
     "name": "stderr",
     "output_type": "stream",
     "text": [
      "Train Epoch: [43/200], lr: 0.053413, Loss: 3.0708: 100%|██████████| 242/242 [00:13<00:00, 18.25it/s]\n",
      "Feature extracting: 100%|██████████| 243/243 [00:02<00:00, 114.44it/s]\n",
      "Test Epoch: [43/200] Acc@1:59.49%: 100%|██████████| 31/31 [00:00<00:00, 44.96it/s]\n",
      "Train Epoch: [44/200], lr: 0.053115, Loss: 3.0736: 100%|██████████| 242/242 [00:13<00:00, 18.23it/s]\n",
      "Feature extracting: 100%|██████████| 243/243 [00:02<00:00, 103.51it/s]\n",
      "Test Epoch: [44/200] Acc@1:62.36%: 100%|██████████| 31/31 [00:00<00:00, 43.64it/s]\n",
      "  0%|          | 0/242 [00:00<?, ?it/s]"
     ]
    },
    {
     "name": "stdout",
     "output_type": "stream",
     "text": [
      "Best model found at epoch 45, saving model\n"
     ]
    },
    {
     "name": "stderr",
     "output_type": "stream",
     "text": [
      "Train Epoch: [45/200], lr: 0.052812, Loss: 3.0369: 100%|██████████| 242/242 [00:13<00:00, 18.25it/s]\n",
      "Feature extracting: 100%|██████████| 243/243 [00:02<00:00, 103.39it/s]\n",
      "Test Epoch: [45/200] Acc@1:59.37%: 100%|██████████| 31/31 [00:00<00:00, 46.15it/s]\n",
      "Train Epoch: [46/200], lr: 0.052503, Loss: 3.0118: 100%|██████████| 242/242 [00:13<00:00, 18.18it/s]\n",
      "Feature extracting: 100%|██████████| 243/243 [00:02<00:00, 103.40it/s]\n",
      "Test Epoch: [46/200] Acc@1:61.80%: 100%|██████████| 31/31 [00:00<00:00, 43.75it/s]\n",
      "Train Epoch: [47/200], lr: 0.052189, Loss: 2.9971: 100%|██████████| 242/242 [00:13<00:00, 18.18it/s]\n",
      "Feature extracting: 100%|██████████| 243/243 [00:02<00:00, 101.66it/s]\n",
      "Test Epoch: [47/200] Acc@1:62.26%: 100%|██████████| 31/31 [00:00<00:00, 45.27it/s]\n",
      "Train Epoch: [48/200], lr: 0.051869, Loss: 3.0025: 100%|██████████| 242/242 [00:13<00:00, 18.23it/s]\n",
      "Feature extracting: 100%|██████████| 243/243 [00:02<00:00, 102.55it/s]\n",
      "Test Epoch: [48/200] Acc@1:61.31%: 100%|██████████| 31/31 [00:00<00:00, 44.68it/s]\n",
      "Train Epoch: [49/200], lr: 0.051544, Loss: 2.9802: 100%|██████████| 242/242 [00:13<00:00, 18.23it/s]\n",
      "Feature extracting: 100%|██████████| 243/243 [00:02<00:00, 103.01it/s]\n",
      "Test Epoch: [49/200] Acc@1:60.36%: 100%|██████████| 31/31 [00:00<00:00, 44.56it/s]\n",
      "Train Epoch: [50/200], lr: 0.051213, Loss: 2.9671: 100%|██████████| 242/242 [00:13<00:00, 18.20it/s]\n",
      "Feature extracting: 100%|██████████| 243/243 [00:02<00:00, 102.29it/s]\n",
      "Test Epoch: [50/200] Acc@1:60.88%: 100%|██████████| 31/31 [00:00<00:00, 44.06it/s]\n",
      "Train Epoch: [51/200], lr: 0.050877, Loss: 2.9415: 100%|██████████| 242/242 [00:13<00:00, 18.20it/s]\n",
      "Feature extracting: 100%|██████████| 243/243 [00:02<00:00, 103.02it/s]\n",
      "Test Epoch: [51/200] Acc@1:62.64%: 100%|██████████| 31/31 [00:00<00:00, 44.84it/s]\n",
      "  0%|          | 0/242 [00:00<?, ?it/s]"
     ]
    },
    {
     "name": "stdout",
     "output_type": "stream",
     "text": [
      "Best model found at epoch 52, saving model\n"
     ]
    },
    {
     "name": "stderr",
     "output_type": "stream",
     "text": [
      "Train Epoch: [52/200], lr: 0.050536, Loss: 2.9175: 100%|██████████| 242/242 [00:13<00:00, 18.23it/s]\n",
      "Feature extracting: 100%|██████████| 243/243 [00:02<00:00, 102.62it/s]\n",
      "Test Epoch: [52/200] Acc@1:61.51%: 100%|██████████| 31/31 [00:00<00:00, 41.25it/s]\n",
      "Train Epoch: [53/200], lr: 0.050190, Loss: 2.8906: 100%|██████████| 242/242 [00:13<00:00, 18.22it/s]\n",
      "Feature extracting: 100%|██████████| 243/243 [00:02<00:00, 103.67it/s]\n",
      "Test Epoch: [53/200] Acc@1:61.92%: 100%|██████████| 31/31 [00:00<00:00, 43.51it/s]\n",
      "Train Epoch: [54/200], lr: 0.049839, Loss: 2.9057: 100%|██████████| 242/242 [00:13<00:00, 18.22it/s]\n",
      "Feature extracting: 100%|██████████| 243/243 [00:02<00:00, 101.47it/s]\n",
      "Test Epoch: [54/200] Acc@1:62.79%: 100%|██████████| 31/31 [00:00<00:00, 44.14it/s]\n",
      "  0%|          | 0/242 [00:00<?, ?it/s]"
     ]
    },
    {
     "name": "stdout",
     "output_type": "stream",
     "text": [
      "Best model found at epoch 55, saving model\n"
     ]
    },
    {
     "name": "stderr",
     "output_type": "stream",
     "text": [
      "Train Epoch: [55/200], lr: 0.049483, Loss: 2.8616: 100%|██████████| 242/242 [00:13<00:00, 18.26it/s]\n",
      "Feature extracting: 100%|██████████| 243/243 [00:02<00:00, 102.50it/s]\n",
      "Test Epoch: [55/200] Acc@1:63.28%: 100%|██████████| 31/31 [00:00<00:00, 44.86it/s]\n",
      "  0%|          | 0/242 [00:00<?, ?it/s]"
     ]
    },
    {
     "name": "stdout",
     "output_type": "stream",
     "text": [
      "Best model found at epoch 56, saving model\n"
     ]
    },
    {
     "name": "stderr",
     "output_type": "stream",
     "text": [
      "Train Epoch: [56/200], lr: 0.049123, Loss: 2.8824: 100%|██████████| 242/242 [00:13<00:00, 18.17it/s]\n",
      "Feature extracting: 100%|██████████| 243/243 [00:02<00:00, 102.07it/s]\n",
      "Test Epoch: [56/200] Acc@1:61.87%: 100%|██████████| 31/31 [00:00<00:00, 45.82it/s]\n",
      "Train Epoch: [57/200], lr: 0.048757, Loss: 2.8663: 100%|██████████| 242/242 [00:13<00:00, 18.15it/s]\n",
      "Feature extracting: 100%|██████████| 243/243 [00:02<00:00, 103.06it/s]\n",
      "Test Epoch: [57/200] Acc@1:61.05%: 100%|██████████| 31/31 [00:00<00:00, 44.67it/s]\n",
      "Train Epoch: [58/200], lr: 0.048387, Loss: 2.8634: 100%|██████████| 242/242 [00:13<00:00, 18.21it/s]\n",
      "Feature extracting: 100%|██████████| 243/243 [00:02<00:00, 102.45it/s]\n",
      "Test Epoch: [58/200] Acc@1:64.69%: 100%|██████████| 31/31 [00:00<00:00, 44.74it/s]\n",
      "  0%|          | 0/242 [00:00<?, ?it/s]"
     ]
    },
    {
     "name": "stdout",
     "output_type": "stream",
     "text": [
      "Best model found at epoch 59, saving model\n"
     ]
    },
    {
     "name": "stderr",
     "output_type": "stream",
     "text": [
      "Train Epoch: [59/200], lr: 0.048013, Loss: 2.8293: 100%|██████████| 242/242 [00:13<00:00, 18.26it/s]\n",
      "Feature extracting: 100%|██████████| 243/243 [00:02<00:00, 102.20it/s]\n",
      "Test Epoch: [59/200] Acc@1:61.80%: 100%|██████████| 31/31 [00:00<00:00, 46.14it/s]\n",
      "Train Epoch: [60/200], lr: 0.047634, Loss: 2.8395: 100%|██████████| 242/242 [00:13<00:00, 18.18it/s]\n",
      "Feature extracting: 100%|██████████| 243/243 [00:02<00:00, 103.37it/s]\n",
      "Test Epoch: [60/200] Acc@1:61.51%: 100%|██████████| 31/31 [00:00<00:00, 45.62it/s]\n",
      "Train Epoch: [61/200], lr: 0.047250, Loss: 2.8094: 100%|██████████| 242/242 [00:13<00:00, 18.22it/s]\n",
      "Feature extracting: 100%|██████████| 243/243 [00:02<00:00, 103.40it/s]\n",
      "Test Epoch: [61/200] Acc@1:63.72%: 100%|██████████| 31/31 [00:00<00:00, 43.37it/s]\n",
      "Train Epoch: [62/200], lr: 0.046863, Loss: 2.8150: 100%|██████████| 242/242 [00:13<00:00, 18.21it/s]\n",
      "Feature extracting: 100%|██████████| 243/243 [00:02<00:00, 102.85it/s]\n",
      "Test Epoch: [62/200] Acc@1:62.26%: 100%|██████████| 31/31 [00:00<00:00, 44.32it/s]\n",
      "Train Epoch: [63/200], lr: 0.046471, Loss: 2.7812: 100%|██████████| 242/242 [00:13<00:00, 18.22it/s]\n",
      "Feature extracting: 100%|██████████| 243/243 [00:02<00:00, 102.66it/s]\n",
      "Test Epoch: [63/200] Acc@1:63.31%: 100%|██████████| 31/31 [00:00<00:00, 45.55it/s]\n",
      "Train Epoch: [64/200], lr: 0.046075, Loss: 2.7858: 100%|██████████| 242/242 [00:13<00:00, 18.17it/s]\n",
      "Feature extracting: 100%|██████████| 243/243 [00:02<00:00, 101.92it/s]\n",
      "Test Epoch: [64/200] Acc@1:61.23%: 100%|██████████| 31/31 [00:00<00:00, 46.18it/s]\n",
      "Train Epoch: [65/200], lr: 0.045675, Loss: 2.7687: 100%|██████████| 242/242 [00:13<00:00, 18.19it/s]\n",
      "Feature extracting: 100%|██████████| 243/243 [00:02<00:00, 103.08it/s]\n",
      "Test Epoch: [65/200] Acc@1:65.53%: 100%|██████████| 31/31 [00:00<00:00, 44.40it/s]\n",
      "  0%|          | 0/242 [00:00<?, ?it/s]"
     ]
    },
    {
     "name": "stdout",
     "output_type": "stream",
     "text": [
      "Best model found at epoch 66, saving model\n"
     ]
    },
    {
     "name": "stderr",
     "output_type": "stream",
     "text": [
      "Train Epoch: [66/200], lr: 0.045271, Loss: 2.7681: 100%|██████████| 242/242 [00:13<00:00, 18.22it/s]\n",
      "Feature extracting: 100%|██████████| 243/243 [00:02<00:00, 102.49it/s]\n",
      "Test Epoch: [66/200] Acc@1:62.82%: 100%|██████████| 31/31 [00:00<00:00, 45.32it/s]\n",
      "Train Epoch: [67/200], lr: 0.044864, Loss: 2.7697: 100%|██████████| 242/242 [00:13<00:00, 18.25it/s]\n",
      "Feature extracting: 100%|██████████| 243/243 [00:02<00:00, 102.42it/s]\n",
      "Test Epoch: [67/200] Acc@1:64.51%: 100%|██████████| 31/31 [00:00<00:00, 45.23it/s]\n",
      "Train Epoch: [68/200], lr: 0.044453, Loss: 2.7469: 100%|██████████| 242/242 [00:13<00:00, 18.25it/s]\n",
      "Feature extracting: 100%|██████████| 243/243 [00:02<00:00, 103.38it/s]\n",
      "Test Epoch: [68/200] Acc@1:63.31%: 100%|██████████| 31/31 [00:00<00:00, 43.92it/s]\n",
      "Train Epoch: [69/200], lr: 0.044038, Loss: 2.7297: 100%|██████████| 242/242 [00:13<00:00, 18.16it/s]\n",
      "Feature extracting: 100%|██████████| 243/243 [00:02<00:00, 103.10it/s]\n",
      "Test Epoch: [69/200] Acc@1:62.95%: 100%|██████████| 31/31 [00:00<00:00, 44.72it/s]\n",
      "Train Epoch: [70/200], lr: 0.043620, Loss: 2.7238: 100%|██████████| 242/242 [00:13<00:00, 18.21it/s]\n",
      "Feature extracting: 100%|██████████| 243/243 [00:02<00:00, 102.59it/s]\n",
      "Test Epoch: [70/200] Acc@1:64.51%: 100%|██████████| 31/31 [00:00<00:00, 44.45it/s]\n",
      "Train Epoch: [71/200], lr: 0.043198, Loss: 2.7125: 100%|██████████| 242/242 [00:13<00:00, 18.25it/s]\n",
      "Feature extracting: 100%|██████████| 243/243 [00:02<00:00, 103.30it/s]\n",
      "Test Epoch: [71/200] Acc@1:64.59%: 100%|██████████| 31/31 [00:00<00:00, 46.21it/s]\n",
      "Train Epoch: [72/200], lr: 0.042773, Loss: 2.7411: 100%|██████████| 242/242 [00:13<00:00, 18.15it/s]\n",
      "Feature extracting: 100%|██████████| 243/243 [00:02<00:00, 103.43it/s]\n",
      "Test Epoch: [72/200] Acc@1:64.92%: 100%|██████████| 31/31 [00:00<00:00, 44.82it/s]\n",
      "Train Epoch: [73/200], lr: 0.042345, Loss: 2.7128: 100%|██████████| 242/242 [00:13<00:00, 18.20it/s]\n",
      "Feature extracting: 100%|██████████| 243/243 [00:02<00:00, 102.68it/s]\n",
      "Test Epoch: [73/200] Acc@1:62.21%: 100%|██████████| 31/31 [00:00<00:00, 45.79it/s]\n",
      "Train Epoch: [74/200], lr: 0.041914, Loss: 2.6810: 100%|██████████| 242/242 [00:13<00:00, 18.23it/s]\n",
      "Feature extracting: 100%|██████████| 243/243 [00:02<00:00, 102.91it/s]\n",
      "Test Epoch: [74/200] Acc@1:63.82%: 100%|██████████| 31/31 [00:00<00:00, 45.06it/s]\n",
      "Train Epoch: [75/200], lr: 0.041481, Loss: 2.6940: 100%|██████████| 242/242 [00:13<00:00, 18.25it/s]\n",
      "Feature extracting: 100%|██████████| 243/243 [00:02<00:00, 102.15it/s]\n",
      "Test Epoch: [75/200] Acc@1:64.84%: 100%|██████████| 31/31 [00:00<00:00, 45.79it/s]\n",
      "Train Epoch: [76/200], lr: 0.041044, Loss: 2.6648: 100%|██████████| 242/242 [00:13<00:00, 18.24it/s]\n",
      "Feature extracting: 100%|██████████| 243/243 [00:02<00:00, 103.33it/s]\n",
      "Test Epoch: [76/200] Acc@1:65.25%: 100%|██████████| 31/31 [00:00<00:00, 46.25it/s]\n",
      "Train Epoch: [77/200], lr: 0.040604, Loss: 2.6645: 100%|██████████| 242/242 [00:13<00:00, 18.21it/s]\n",
      "Feature extracting: 100%|██████████| 243/243 [00:02<00:00, 103.38it/s]\n",
      "Test Epoch: [77/200] Acc@1:65.48%: 100%|██████████| 31/31 [00:00<00:00, 45.56it/s]\n",
      "Train Epoch: [78/200], lr: 0.040162, Loss: 2.6407: 100%|██████████| 242/242 [00:13<00:00, 18.23it/s]\n",
      "Feature extracting: 100%|██████████| 243/243 [00:02<00:00, 103.22it/s]\n",
      "Test Epoch: [78/200] Acc@1:60.59%: 100%|██████████| 31/31 [00:00<00:00, 44.89it/s]\n",
      "Train Epoch: [79/200], lr: 0.039718, Loss: 2.6359: 100%|██████████| 242/242 [00:13<00:00, 18.22it/s]\n",
      "Feature extracting: 100%|██████████| 243/243 [00:02<00:00, 102.71it/s]\n",
      "Test Epoch: [79/200] Acc@1:63.69%: 100%|██████████| 31/31 [00:00<00:00, 42.82it/s]\n",
      "Train Epoch: [80/200], lr: 0.039271, Loss: 2.6241: 100%|██████████| 242/242 [00:13<00:00, 18.20it/s]\n",
      "Feature extracting: 100%|██████████| 243/243 [00:02<00:00, 102.38it/s]\n",
      "Test Epoch: [80/200] Acc@1:63.61%: 100%|██████████| 31/31 [00:00<00:00, 45.16it/s]\n",
      "Train Epoch: [81/200], lr: 0.038821, Loss: 2.6105: 100%|██████████| 242/242 [00:13<00:00, 18.19it/s]\n",
      "Feature extracting: 100%|██████████| 243/243 [00:02<00:00, 102.21it/s]\n",
      "Test Epoch: [81/200] Acc@1:63.05%: 100%|██████████| 31/31 [00:00<00:00, 46.09it/s]\n",
      "Train Epoch: [82/200], lr: 0.038370, Loss: 2.6022: 100%|██████████| 242/242 [00:13<00:00, 18.23it/s]\n",
      "Feature extracting: 100%|██████████| 243/243 [00:02<00:00, 103.31it/s]\n",
      "Test Epoch: [82/200] Acc@1:64.99%: 100%|██████████| 31/31 [00:00<00:00, 45.07it/s]\n",
      "Train Epoch: [83/200], lr: 0.037916, Loss: 2.6102: 100%|██████████| 242/242 [00:13<00:00, 18.19it/s]\n",
      "Feature extracting: 100%|██████████| 243/243 [00:02<00:00, 101.79it/s]\n",
      "Test Epoch: [83/200] Acc@1:63.08%: 100%|██████████| 31/31 [00:00<00:00, 43.15it/s]\n",
      "Train Epoch: [84/200], lr: 0.037461, Loss: 2.5897: 100%|██████████| 242/242 [00:13<00:00, 18.22it/s]\n",
      "Feature extracting: 100%|██████████| 243/243 [00:02<00:00, 100.77it/s]\n",
      "Test Epoch: [84/200] Acc@1:66.48%: 100%|██████████| 31/31 [00:00<00:00,  6.98it/s]\n",
      "  0%|          | 0/242 [00:00<?, ?it/s]"
     ]
    },
    {
     "name": "stdout",
     "output_type": "stream",
     "text": [
      "Best model found at epoch 85, saving model\n"
     ]
    },
    {
     "name": "stderr",
     "output_type": "stream",
     "text": [
      "Train Epoch: [85/200], lr: 0.037003, Loss: 2.5960: 100%|██████████| 242/242 [00:13<00:00, 18.20it/s]\n",
      "Feature extracting: 100%|██████████| 243/243 [00:02<00:00, 103.07it/s]\n",
      "Test Epoch: [85/200] Acc@1:65.92%: 100%|██████████| 31/31 [00:00<00:00, 44.10it/s]\n",
      "Train Epoch: [86/200], lr: 0.036544, Loss: 2.5921: 100%|██████████| 242/242 [00:13<00:00, 18.25it/s]\n",
      "Feature extracting: 100%|██████████| 243/243 [00:02<00:00, 102.58it/s]\n",
      "Test Epoch: [86/200] Acc@1:67.68%: 100%|██████████| 31/31 [00:00<00:00, 44.02it/s]\n",
      "  0%|          | 0/242 [00:00<?, ?it/s]"
     ]
    },
    {
     "name": "stdout",
     "output_type": "stream",
     "text": [
      "Best model found at epoch 87, saving model\n"
     ]
    },
    {
     "name": "stderr",
     "output_type": "stream",
     "text": [
      "Train Epoch: [87/200], lr: 0.036084, Loss: 2.5578: 100%|██████████| 242/242 [00:13<00:00, 18.26it/s]\n",
      "Feature extracting: 100%|██████████| 243/243 [00:02<00:00, 103.60it/s]\n",
      "Test Epoch: [87/200] Acc@1:66.07%: 100%|██████████| 31/31 [00:00<00:00, 45.17it/s]\n",
      "Train Epoch: [88/200], lr: 0.035621, Loss: 2.5718: 100%|██████████| 242/242 [00:13<00:00, 18.23it/s]\n",
      "Feature extracting: 100%|██████████| 243/243 [00:02<00:00, 102.74it/s]\n",
      "Test Epoch: [88/200] Acc@1:63.87%: 100%|██████████| 31/31 [00:00<00:00, 45.22it/s]\n",
      "Train Epoch: [89/200], lr: 0.035158, Loss: 2.5690: 100%|██████████| 242/242 [00:13<00:00, 18.18it/s]\n",
      "Feature extracting: 100%|██████████| 243/243 [00:02<00:00, 102.66it/s]\n",
      "Test Epoch: [89/200] Acc@1:64.07%: 100%|██████████| 31/31 [00:00<00:00, 45.58it/s]\n",
      "Train Epoch: [90/200], lr: 0.034693, Loss: 2.5580: 100%|██████████| 242/242 [00:13<00:00, 18.27it/s]\n",
      "Feature extracting: 100%|██████████| 243/243 [00:02<00:00, 103.32it/s]\n",
      "Test Epoch: [90/200] Acc@1:64.66%: 100%|██████████| 31/31 [00:00<00:00, 44.07it/s]\n",
      "Train Epoch: [91/200], lr: 0.034227, Loss: 2.5354: 100%|██████████| 242/242 [00:13<00:00, 18.22it/s]\n",
      "Feature extracting: 100%|██████████| 243/243 [00:02<00:00, 102.81it/s]\n",
      "Test Epoch: [91/200] Acc@1:65.02%: 100%|██████████| 31/31 [00:00<00:00, 44.73it/s]\n",
      "Train Epoch: [92/200], lr: 0.033760, Loss: 2.5272: 100%|██████████| 242/242 [00:13<00:00, 18.24it/s]\n",
      "Feature extracting: 100%|██████████| 243/243 [00:02<00:00, 101.86it/s]\n",
      "Test Epoch: [92/200] Acc@1:65.35%: 100%|██████████| 31/31 [00:00<00:00, 44.59it/s]\n",
      "Train Epoch: [93/200], lr: 0.033292, Loss: 2.5200: 100%|██████████| 242/242 [00:13<00:00, 18.25it/s]\n",
      "Feature extracting: 100%|██████████| 243/243 [00:02<00:00, 102.18it/s]\n",
      "Test Epoch: [93/200] Acc@1:65.20%: 100%|██████████| 31/31 [00:00<00:00, 43.18it/s]\n",
      "Train Epoch: [94/200], lr: 0.032823, Loss: 2.5262: 100%|██████████| 242/242 [00:13<00:00, 18.25it/s]\n",
      "Feature extracting: 100%|██████████| 243/243 [00:02<00:00, 102.97it/s]\n",
      "Test Epoch: [94/200] Acc@1:64.18%: 100%|██████████| 31/31 [00:00<00:00, 43.66it/s]\n",
      "Train Epoch: [95/200], lr: 0.032354, Loss: 2.4986: 100%|██████████| 242/242 [00:13<00:00, 18.18it/s]\n",
      "Feature extracting: 100%|██████████| 243/243 [00:02<00:00, 103.31it/s]\n",
      "Test Epoch: [95/200] Acc@1:66.27%: 100%|██████████| 31/31 [00:00<00:00, 44.33it/s]\n",
      "Train Epoch: [96/200], lr: 0.031884, Loss: 2.4949: 100%|██████████| 242/242 [00:13<00:00, 18.22it/s]\n",
      "Feature extracting: 100%|██████████| 243/243 [00:02<00:00, 103.88it/s]\n",
      "Test Epoch: [96/200] Acc@1:63.33%: 100%|██████████| 31/31 [00:00<00:00, 45.30it/s]\n",
      "Train Epoch: [97/200], lr: 0.031413, Loss: 2.5030: 100%|██████████| 242/242 [00:13<00:00, 18.23it/s]\n",
      "Feature extracting: 100%|██████████| 243/243 [00:02<00:00, 102.79it/s]\n",
      "Test Epoch: [97/200] Acc@1:64.33%: 100%|██████████| 31/31 [00:00<00:00, 44.84it/s]\n",
      "Train Epoch: [98/200], lr: 0.030942, Loss: 2.4937: 100%|██████████| 242/242 [00:13<00:00, 18.22it/s]\n",
      "Feature extracting: 100%|██████████| 243/243 [00:02<00:00, 102.24it/s]\n",
      "Test Epoch: [98/200] Acc@1:65.35%: 100%|██████████| 31/31 [00:00<00:00, 45.92it/s]\n",
      "Train Epoch: [99/200], lr: 0.030471, Loss: 2.4693: 100%|██████████| 242/242 [00:13<00:00, 18.23it/s]\n",
      "Feature extracting: 100%|██████████| 243/243 [00:02<00:00, 103.60it/s]\n",
      "Test Epoch: [99/200] Acc@1:65.71%: 100%|██████████| 31/31 [00:00<00:00, 43.39it/s]\n",
      "Train Epoch: [100/200], lr: 0.030000, Loss: 2.4655: 100%|██████████| 242/242 [00:13<00:00, 18.25it/s]\n",
      "Feature extracting: 100%|██████████| 243/243 [00:02<00:00, 102.20it/s]\n",
      "Test Epoch: [100/200] Acc@1:67.45%: 100%|██████████| 31/31 [00:00<00:00, 43.72it/s]\n",
      "Train Epoch: [101/200], lr: 0.029529, Loss: 2.4669: 100%|██████████| 242/242 [00:13<00:00, 18.23it/s]\n",
      "Feature extracting: 100%|██████████| 243/243 [00:02<00:00, 103.24it/s]\n",
      "Test Epoch: [101/200] Acc@1:66.02%: 100%|██████████| 31/31 [00:00<00:00, 44.80it/s]\n",
      "Train Epoch: [102/200], lr: 0.029058, Loss: 2.4642: 100%|██████████| 242/242 [00:13<00:00, 18.23it/s]\n",
      "Feature extracting: 100%|██████████| 243/243 [00:02<00:00, 102.65it/s]\n",
      "Test Epoch: [102/200] Acc@1:64.18%: 100%|██████████| 31/31 [00:00<00:00, 44.52it/s]\n",
      "Train Epoch: [103/200], lr: 0.028587, Loss: 2.4565: 100%|██████████| 242/242 [00:13<00:00, 18.23it/s]\n",
      "Feature extracting: 100%|██████████| 243/243 [00:02<00:00, 103.14it/s]\n",
      "Test Epoch: [103/200] Acc@1:67.96%: 100%|██████████| 31/31 [00:00<00:00, 43.53it/s]\n",
      "  0%|          | 0/242 [00:00<?, ?it/s]"
     ]
    },
    {
     "name": "stdout",
     "output_type": "stream",
     "text": [
      "Best model found at epoch 104, saving model\n"
     ]
    },
    {
     "name": "stderr",
     "output_type": "stream",
     "text": [
      "Train Epoch: [104/200], lr: 0.028116, Loss: 2.4404: 100%|██████████| 242/242 [00:13<00:00, 18.22it/s]\n",
      "Feature extracting: 100%|██████████| 243/243 [00:02<00:00, 102.39it/s]\n",
      "Test Epoch: [104/200] Acc@1:66.86%: 100%|██████████| 31/31 [00:00<00:00, 44.66it/s]\n",
      "Train Epoch: [105/200], lr: 0.027646, Loss: 2.4261: 100%|██████████| 242/242 [00:13<00:00, 18.23it/s]\n",
      "Feature extracting: 100%|██████████| 243/243 [00:02<00:00, 102.31it/s]\n",
      "Test Epoch: [105/200] Acc@1:65.56%: 100%|██████████| 31/31 [00:00<00:00, 44.79it/s]\n",
      "Train Epoch: [106/200], lr: 0.027177, Loss: 2.4124: 100%|██████████| 242/242 [00:13<00:00, 18.21it/s]\n",
      "Feature extracting: 100%|██████████| 243/243 [00:02<00:00, 102.55it/s]\n",
      "Test Epoch: [106/200] Acc@1:66.17%: 100%|██████████| 31/31 [00:00<00:00, 45.54it/s]\n",
      "Train Epoch: [107/200], lr: 0.026708, Loss: 2.4163: 100%|██████████| 242/242 [00:13<00:00, 18.24it/s]\n",
      "Feature extracting: 100%|██████████| 243/243 [00:02<00:00, 102.29it/s]\n",
      "Test Epoch: [107/200] Acc@1:65.46%: 100%|██████████| 31/31 [00:00<00:00, 43.32it/s]\n",
      "Train Epoch: [108/200], lr: 0.026240, Loss: 2.3902: 100%|██████████| 242/242 [00:13<00:00, 18.22it/s]\n",
      "Feature extracting: 100%|██████████| 243/243 [00:02<00:00, 102.99it/s]\n",
      "Test Epoch: [108/200] Acc@1:64.66%: 100%|██████████| 31/31 [00:00<00:00, 44.64it/s]\n",
      "Train Epoch: [109/200], lr: 0.025773, Loss: 2.4200: 100%|██████████| 242/242 [00:13<00:00, 18.22it/s]\n",
      "Feature extracting: 100%|██████████| 243/243 [00:02<00:00, 101.76it/s]\n",
      "Test Epoch: [109/200] Acc@1:65.71%: 100%|██████████| 31/31 [00:00<00:00, 44.89it/s]\n",
      "Train Epoch: [110/200], lr: 0.025307, Loss: 2.4023: 100%|██████████| 242/242 [00:13<00:00, 18.25it/s]\n",
      "Feature extracting: 100%|██████████| 243/243 [00:02<00:00, 102.36it/s]\n",
      "Test Epoch: [110/200] Acc@1:64.38%: 100%|██████████| 31/31 [00:00<00:00, 44.75it/s]\n",
      "Train Epoch: [111/200], lr: 0.024842, Loss: 2.3794: 100%|██████████| 242/242 [00:13<00:00, 18.22it/s]\n",
      "Feature extracting: 100%|██████████| 243/243 [00:02<00:00, 103.37it/s]\n",
      "Test Epoch: [111/200] Acc@1:65.79%: 100%|██████████| 31/31 [00:00<00:00, 44.14it/s]\n",
      "Train Epoch: [112/200], lr: 0.024379, Loss: 2.3794: 100%|██████████| 242/242 [00:13<00:00, 18.24it/s]\n",
      "Feature extracting: 100%|██████████| 243/243 [00:02<00:00, 103.09it/s]\n",
      "Test Epoch: [112/200] Acc@1:68.04%: 100%|██████████| 31/31 [00:00<00:00, 45.67it/s]\n",
      "  0%|          | 0/242 [00:00<?, ?it/s]"
     ]
    },
    {
     "name": "stdout",
     "output_type": "stream",
     "text": [
      "Best model found at epoch 113, saving model\n"
     ]
    },
    {
     "name": "stderr",
     "output_type": "stream",
     "text": [
      "Train Epoch: [113/200], lr: 0.023916, Loss: 2.3666: 100%|██████████| 242/242 [00:13<00:00, 18.24it/s]\n",
      "Feature extracting: 100%|██████████| 243/243 [00:02<00:00, 102.01it/s]\n",
      "Test Epoch: [113/200] Acc@1:66.17%: 100%|██████████| 31/31 [00:00<00:00, 44.29it/s]\n",
      "Train Epoch: [114/200], lr: 0.023456, Loss: 2.3608: 100%|██████████| 242/242 [00:13<00:00, 18.24it/s]\n",
      "Feature extracting: 100%|██████████| 243/243 [00:02<00:00, 102.67it/s]\n",
      "Test Epoch: [114/200] Acc@1:65.97%: 100%|██████████| 31/31 [00:00<00:00, 43.25it/s]\n",
      "Train Epoch: [115/200], lr: 0.022997, Loss: 2.3559: 100%|██████████| 242/242 [00:13<00:00, 18.25it/s]\n",
      "Feature extracting: 100%|██████████| 243/243 [00:02<00:00, 103.28it/s]\n",
      "Test Epoch: [115/200] Acc@1:65.12%: 100%|██████████| 31/31 [00:00<00:00, 45.53it/s]\n",
      "Train Epoch: [116/200], lr: 0.022539, Loss: 2.3546: 100%|██████████| 242/242 [00:13<00:00, 18.22it/s]\n",
      "Feature extracting: 100%|██████████| 243/243 [00:02<00:00, 103.15it/s]\n",
      "Test Epoch: [116/200] Acc@1:64.28%: 100%|██████████| 31/31 [00:00<00:00, 42.76it/s]\n",
      "Train Epoch: [117/200], lr: 0.022084, Loss: 2.3541: 100%|██████████| 242/242 [00:13<00:00, 18.24it/s]\n",
      "Feature extracting: 100%|██████████| 243/243 [00:02<00:00, 102.70it/s]\n",
      "Test Epoch: [117/200] Acc@1:65.69%: 100%|██████████| 31/31 [00:00<00:00, 45.37it/s]\n",
      "Train Epoch: [118/200], lr: 0.021630, Loss: 2.3486: 100%|██████████| 242/242 [00:13<00:00, 18.22it/s]\n",
      "Feature extracting: 100%|██████████| 243/243 [00:02<00:00, 103.29it/s]\n",
      "Test Epoch: [118/200] Acc@1:66.20%: 100%|██████████| 31/31 [00:00<00:00, 45.70it/s]\n",
      "Train Epoch: [119/200], lr: 0.021179, Loss: 2.3300: 100%|██████████| 242/242 [00:13<00:00, 18.25it/s]\n",
      "Feature extracting: 100%|██████████| 243/243 [00:02<00:00, 102.57it/s]\n",
      "Test Epoch: [119/200] Acc@1:66.40%: 100%|██████████| 31/31 [00:00<00:00, 43.75it/s]\n",
      "Train Epoch: [120/200], lr: 0.020729, Loss: 2.3168: 100%|██████████| 242/242 [00:13<00:00, 18.23it/s]\n",
      "Feature extracting: 100%|██████████| 243/243 [00:02<00:00, 102.24it/s]\n",
      "Test Epoch: [120/200] Acc@1:66.12%: 100%|██████████| 31/31 [00:00<00:00, 43.63it/s]\n",
      "Train Epoch: [121/200], lr: 0.020282, Loss: 2.3159: 100%|██████████| 242/242 [00:13<00:00, 18.17it/s]\n",
      "Feature extracting: 100%|██████████| 243/243 [00:02<00:00, 103.73it/s]\n",
      "Test Epoch: [121/200] Acc@1:65.10%: 100%|██████████| 31/31 [00:00<00:00, 44.25it/s]\n",
      "Train Epoch: [122/200], lr: 0.019838, Loss: 2.3161: 100%|██████████| 242/242 [00:13<00:00, 18.25it/s]\n",
      "Feature extracting: 100%|██████████| 243/243 [00:02<00:00, 101.90it/s]\n",
      "Test Epoch: [122/200] Acc@1:65.53%: 100%|██████████| 31/31 [00:00<00:00, 43.94it/s]\n",
      "Train Epoch: [123/200], lr: 0.019396, Loss: 2.3128: 100%|██████████| 242/242 [00:13<00:00, 18.26it/s]\n",
      "Feature extracting: 100%|██████████| 243/243 [00:02<00:00, 103.40it/s]\n",
      "Test Epoch: [123/200] Acc@1:66.99%: 100%|██████████| 31/31 [00:00<00:00, 42.67it/s]\n",
      "Train Epoch: [124/200], lr: 0.018956, Loss: 2.2850: 100%|██████████| 242/242 [00:13<00:00, 18.25it/s]\n",
      "Feature extracting: 100%|██████████| 243/243 [00:02<00:00, 102.71it/s]\n",
      "Test Epoch: [124/200] Acc@1:67.63%: 100%|██████████| 31/31 [00:00<00:00, 43.32it/s]\n",
      "Train Epoch: [125/200], lr: 0.018519, Loss: 2.2776: 100%|██████████| 242/242 [00:13<00:00, 18.17it/s]\n",
      "Feature extracting: 100%|██████████| 243/243 [00:02<00:00, 102.77it/s]\n",
      "Test Epoch: [125/200] Acc@1:67.14%: 100%|██████████| 31/31 [00:00<00:00, 43.68it/s]\n",
      "Train Epoch: [126/200], lr: 0.018086, Loss: 2.2836: 100%|██████████| 242/242 [00:13<00:00, 18.21it/s]\n",
      "Feature extracting: 100%|██████████| 243/243 [00:02<00:00, 102.52it/s]\n",
      "Test Epoch: [126/200] Acc@1:66.76%: 100%|██████████| 31/31 [00:00<00:00, 44.45it/s]\n",
      "Train Epoch: [127/200], lr: 0.017655, Loss: 2.2701: 100%|██████████| 242/242 [00:13<00:00, 18.25it/s]\n",
      "Feature extracting: 100%|██████████| 243/243 [00:02<00:00, 102.42it/s]\n",
      "Test Epoch: [127/200] Acc@1:66.10%: 100%|██████████| 31/31 [00:00<00:00, 45.17it/s]\n",
      "Train Epoch: [128/200], lr: 0.017227, Loss: 2.2762: 100%|██████████| 242/242 [00:13<00:00, 18.23it/s]\n",
      "Feature extracting: 100%|██████████| 243/243 [00:02<00:00, 102.34it/s]\n",
      "Test Epoch: [128/200] Acc@1:67.27%: 100%|██████████| 31/31 [00:00<00:00, 44.85it/s]\n",
      "Train Epoch: [129/200], lr: 0.016802, Loss: 2.2588: 100%|██████████| 242/242 [00:13<00:00, 18.24it/s]\n",
      "Feature extracting: 100%|██████████| 243/243 [00:02<00:00, 103.06it/s]\n",
      "Test Epoch: [129/200] Acc@1:66.25%: 100%|██████████| 31/31 [00:00<00:00, 45.38it/s]\n",
      "Train Epoch: [130/200], lr: 0.016380, Loss: 2.2367: 100%|██████████| 242/242 [00:13<00:00, 18.23it/s]\n",
      "Feature extracting: 100%|██████████| 243/243 [00:02<00:00, 103.12it/s]\n",
      "Test Epoch: [130/200] Acc@1:65.74%: 100%|██████████| 31/31 [00:00<00:00, 45.14it/s]\n",
      "Train Epoch: [131/200], lr: 0.015962, Loss: 2.2164: 100%|██████████| 242/242 [00:13<00:00, 18.22it/s]\n",
      "Feature extracting: 100%|██████████| 243/243 [00:02<00:00, 102.51it/s]\n",
      "Test Epoch: [131/200] Acc@1:67.07%: 100%|██████████| 31/31 [00:00<00:00, 44.91it/s]\n",
      "Train Epoch: [132/200], lr: 0.015547, Loss: 2.2438: 100%|██████████| 242/242 [00:13<00:00, 18.17it/s]\n",
      "Feature extracting: 100%|██████████| 243/243 [00:02<00:00, 102.58it/s]\n",
      "Test Epoch: [132/200] Acc@1:67.53%: 100%|██████████| 31/31 [00:00<00:00, 44.22it/s]\n",
      "Train Epoch: [133/200], lr: 0.015136, Loss: 2.2374: 100%|██████████| 242/242 [00:13<00:00, 18.22it/s]\n",
      "Feature extracting: 100%|██████████| 243/243 [00:02<00:00, 103.73it/s]\n",
      "Test Epoch: [133/200] Acc@1:65.28%: 100%|██████████| 31/31 [00:00<00:00, 45.33it/s]\n",
      "Train Epoch: [134/200], lr: 0.014729, Loss: 2.1970: 100%|██████████| 242/242 [00:13<00:00, 18.22it/s]\n",
      "Feature extracting: 100%|██████████| 243/243 [00:02<00:00, 102.46it/s]\n",
      "Test Epoch: [134/200] Acc@1:66.43%: 100%|██████████| 31/31 [00:00<00:00, 45.35it/s]\n",
      "Train Epoch: [135/200], lr: 0.014325, Loss: 2.2178: 100%|██████████| 242/242 [00:13<00:00, 18.22it/s]\n",
      "Feature extracting: 100%|██████████| 243/243 [00:02<00:00, 102.03it/s]\n",
      "Test Epoch: [135/200] Acc@1:66.45%: 100%|██████████| 31/31 [00:00<00:00, 42.97it/s]\n",
      "Train Epoch: [136/200], lr: 0.013925, Loss: 2.2032: 100%|██████████| 242/242 [00:13<00:00, 18.21it/s]\n",
      "Feature extracting: 100%|██████████| 243/243 [00:02<00:00, 103.77it/s]\n",
      "Test Epoch: [136/200] Acc@1:67.76%: 100%|██████████| 31/31 [00:00<00:00, 45.93it/s]\n",
      "Train Epoch: [137/200], lr: 0.013529, Loss: 2.2004: 100%|██████████| 242/242 [00:13<00:00, 18.22it/s]\n",
      "Feature extracting: 100%|██████████| 243/243 [00:02<00:00, 102.22it/s]\n",
      "Test Epoch: [137/200] Acc@1:68.60%: 100%|██████████| 31/31 [00:00<00:00, 43.42it/s]\n",
      "  0%|          | 0/242 [00:00<?, ?it/s]"
     ]
    },
    {
     "name": "stdout",
     "output_type": "stream",
     "text": [
      "Best model found at epoch 138, saving model\n"
     ]
    },
    {
     "name": "stderr",
     "output_type": "stream",
     "text": [
      "Train Epoch: [138/200], lr: 0.013137, Loss: 2.1866: 100%|██████████| 242/242 [00:13<00:00, 18.20it/s]\n",
      "Feature extracting: 100%|██████████| 243/243 [00:02<00:00, 101.79it/s]\n",
      "Test Epoch: [138/200] Acc@1:67.25%: 100%|██████████| 31/31 [00:00<00:00, 44.61it/s]\n",
      "Train Epoch: [139/200], lr: 0.012750, Loss: 2.1723: 100%|██████████| 242/242 [00:13<00:00, 18.23it/s]\n",
      "Feature extracting: 100%|██████████| 243/243 [00:02<00:00, 102.00it/s]\n",
      "Test Epoch: [139/200] Acc@1:66.04%: 100%|██████████| 31/31 [00:00<00:00, 44.82it/s]\n",
      "Train Epoch: [140/200], lr: 0.012366, Loss: 2.1629: 100%|██████████| 242/242 [00:13<00:00, 18.22it/s]\n",
      "Feature extracting: 100%|██████████| 243/243 [00:02<00:00, 102.84it/s]\n",
      "Test Epoch: [140/200] Acc@1:66.89%: 100%|██████████| 31/31 [00:00<00:00, 44.34it/s]\n",
      "Train Epoch: [141/200], lr: 0.011987, Loss: 2.1583: 100%|██████████| 242/242 [00:13<00:00, 18.25it/s]\n",
      "Feature extracting: 100%|██████████| 243/243 [00:02<00:00, 103.62it/s]\n",
      "Test Epoch: [141/200] Acc@1:68.09%: 100%|██████████| 31/31 [00:00<00:00, 45.82it/s]\n",
      "Train Epoch: [142/200], lr: 0.011613, Loss: 2.1526: 100%|██████████| 242/242 [00:13<00:00, 18.20it/s]\n",
      "Feature extracting: 100%|██████████| 243/243 [00:02<00:00, 102.49it/s]\n",
      "Test Epoch: [142/200] Acc@1:68.30%: 100%|██████████| 31/31 [00:00<00:00, 44.53it/s]\n",
      "Train Epoch: [143/200], lr: 0.011243, Loss: 2.1369: 100%|██████████| 242/242 [00:13<00:00, 18.22it/s]\n",
      "Feature extracting: 100%|██████████| 243/243 [00:02<00:00, 102.89it/s]\n",
      "Test Epoch: [143/200] Acc@1:67.60%: 100%|██████████| 31/31 [00:00<00:00, 45.74it/s]\n",
      "Train Epoch: [144/200], lr: 0.010877, Loss: 2.1277: 100%|██████████| 242/242 [00:13<00:00, 18.23it/s]\n",
      "Feature extracting: 100%|██████████| 243/243 [00:02<00:00, 102.68it/s]\n",
      "Test Epoch: [144/200] Acc@1:68.68%: 100%|██████████| 31/31 [00:00<00:00, 42.76it/s]\n",
      "  0%|          | 0/242 [00:00<?, ?it/s]"
     ]
    },
    {
     "name": "stdout",
     "output_type": "stream",
     "text": [
      "Best model found at epoch 145, saving model\n"
     ]
    },
    {
     "name": "stderr",
     "output_type": "stream",
     "text": [
      "Train Epoch: [145/200], lr: 0.010517, Loss: 2.1146: 100%|██████████| 242/242 [00:13<00:00, 18.20it/s]\n",
      "Feature extracting: 100%|██████████| 243/243 [00:02<00:00, 103.39it/s]\n",
      "Test Epoch: [145/200] Acc@1:67.76%: 100%|██████████| 31/31 [00:00<00:00, 44.65it/s]\n",
      "Train Epoch: [146/200], lr: 0.010161, Loss: 2.1058: 100%|██████████| 242/242 [00:13<00:00, 18.22it/s]\n",
      "Feature extracting: 100%|██████████| 243/243 [00:02<00:00, 103.17it/s]\n",
      "Test Epoch: [146/200] Acc@1:66.81%: 100%|██████████| 31/31 [00:00<00:00, 43.71it/s]\n",
      "Train Epoch: [147/200], lr: 0.009810, Loss: 2.1047: 100%|██████████| 242/242 [00:13<00:00, 18.22it/s]\n",
      "Feature extracting: 100%|██████████| 243/243 [00:02<00:00, 103.05it/s]\n",
      "Test Epoch: [147/200] Acc@1:67.60%: 100%|██████████| 31/31 [00:00<00:00, 45.00it/s]\n",
      "Train Epoch: [148/200], lr: 0.009464, Loss: 2.1109: 100%|██████████| 242/242 [00:13<00:00, 18.21it/s]\n",
      "Feature extracting: 100%|██████████| 243/243 [00:02<00:00, 102.45it/s]\n",
      "Test Epoch: [148/200] Acc@1:67.68%: 100%|██████████| 31/31 [00:00<00:00, 43.87it/s]\n",
      "Train Epoch: [149/200], lr: 0.009123, Loss: 2.0973: 100%|██████████| 242/242 [00:13<00:00, 18.18it/s]\n",
      "Feature extracting: 100%|██████████| 243/243 [00:02<00:00, 103.02it/s]\n",
      "Test Epoch: [149/200] Acc@1:68.24%: 100%|██████████| 31/31 [00:00<00:00, 44.44it/s]\n",
      "Train Epoch: [150/200], lr: 0.008787, Loss: 2.0746: 100%|██████████| 242/242 [00:13<00:00, 18.21it/s]\n",
      "Feature extracting: 100%|██████████| 243/243 [00:02<00:00, 102.21it/s]\n",
      "Test Epoch: [150/200] Acc@1:66.99%: 100%|██████████| 31/31 [00:00<00:00, 44.05it/s]\n",
      "Train Epoch: [151/200], lr: 0.008456, Loss: 2.0695: 100%|██████████| 242/242 [00:13<00:00, 18.21it/s]\n",
      "Feature extracting: 100%|██████████| 243/243 [00:02<00:00, 101.95it/s]\n",
      "Test Epoch: [151/200] Acc@1:67.78%: 100%|██████████| 31/31 [00:00<00:00, 44.59it/s]\n",
      "Train Epoch: [152/200], lr: 0.008131, Loss: 2.0658: 100%|██████████| 242/242 [00:13<00:00, 18.21it/s]\n",
      "Feature extracting: 100%|██████████| 243/243 [00:02<00:00, 101.44it/s]\n",
      "Test Epoch: [152/200] Acc@1:68.88%: 100%|██████████| 31/31 [00:00<00:00, 44.35it/s]\n",
      "  0%|          | 0/242 [00:00<?, ?it/s]"
     ]
    },
    {
     "name": "stdout",
     "output_type": "stream",
     "text": [
      "Best model found at epoch 153, saving model\n"
     ]
    },
    {
     "name": "stderr",
     "output_type": "stream",
     "text": [
      "Train Epoch: [153/200], lr: 0.007811, Loss: 2.0412: 100%|██████████| 242/242 [00:13<00:00, 18.21it/s]\n",
      "Feature extracting: 100%|██████████| 243/243 [00:02<00:00, 103.01it/s]\n",
      "Test Epoch: [153/200] Acc@1:68.37%: 100%|██████████| 31/31 [00:00<00:00, 45.06it/s]\n",
      "Train Epoch: [154/200], lr: 0.007497, Loss: 2.0497: 100%|██████████| 242/242 [00:13<00:00, 18.23it/s]\n",
      "Feature extracting: 100%|██████████| 243/243 [00:02<00:00, 103.66it/s]\n",
      "Test Epoch: [154/200] Acc@1:67.53%: 100%|██████████| 31/31 [00:00<00:00, 45.83it/s]\n",
      "Train Epoch: [155/200], lr: 0.007188, Loss: 2.0518: 100%|██████████| 242/242 [00:13<00:00, 18.19it/s]\n",
      "Feature extracting: 100%|██████████| 243/243 [00:02<00:00, 101.92it/s]\n",
      "Test Epoch: [155/200] Acc@1:66.63%: 100%|██████████| 31/31 [00:00<00:00, 43.26it/s]\n",
      "Train Epoch: [156/200], lr: 0.006885, Loss: 2.0352: 100%|██████████| 242/242 [00:13<00:00, 18.25it/s]\n",
      "Feature extracting: 100%|██████████| 243/243 [00:02<00:00, 101.60it/s]\n",
      "Test Epoch: [156/200] Acc@1:66.43%: 100%|██████████| 31/31 [00:00<00:00, 42.92it/s]\n",
      "Train Epoch: [157/200], lr: 0.006587, Loss: 2.0234: 100%|██████████| 242/242 [00:13<00:00, 18.24it/s]\n",
      "Feature extracting: 100%|██████████| 243/243 [00:02<00:00, 102.43it/s]\n",
      "Test Epoch: [157/200] Acc@1:68.99%: 100%|██████████| 31/31 [00:00<00:00, 43.89it/s]\n",
      "  0%|          | 0/242 [00:00<?, ?it/s]"
     ]
    },
    {
     "name": "stdout",
     "output_type": "stream",
     "text": [
      "Best model found at epoch 158, saving model\n"
     ]
    },
    {
     "name": "stderr",
     "output_type": "stream",
     "text": [
      "Train Epoch: [158/200], lr: 0.006295, Loss: 2.0120: 100%|██████████| 242/242 [00:13<00:00, 18.21it/s]\n",
      "Feature extracting: 100%|██████████| 243/243 [00:02<00:00, 103.17it/s]\n",
      "Test Epoch: [158/200] Acc@1:69.29%: 100%|██████████| 31/31 [00:00<00:00, 44.99it/s]\n",
      "  0%|          | 0/242 [00:00<?, ?it/s]"
     ]
    },
    {
     "name": "stdout",
     "output_type": "stream",
     "text": [
      "Best model found at epoch 159, saving model\n"
     ]
    },
    {
     "name": "stderr",
     "output_type": "stream",
     "text": [
      "Train Epoch: [159/200], lr: 0.006009, Loss: 2.0088: 100%|██████████| 242/242 [00:13<00:00, 18.19it/s]\n",
      "Feature extracting: 100%|██████████| 243/243 [00:02<00:00, 103.17it/s]\n",
      "Test Epoch: [159/200] Acc@1:68.91%: 100%|██████████| 31/31 [00:00<00:00, 44.41it/s]\n",
      "Train Epoch: [160/200], lr: 0.005729, Loss: 1.9847: 100%|██████████| 242/242 [00:13<00:00, 18.18it/s]\n",
      "Feature extracting: 100%|██████████| 243/243 [00:02<00:00, 102.98it/s]\n",
      "Test Epoch: [160/200] Acc@1:69.42%: 100%|██████████| 31/31 [00:00<00:00, 45.21it/s]\n",
      "  0%|          | 0/242 [00:00<?, ?it/s]"
     ]
    },
    {
     "name": "stdout",
     "output_type": "stream",
     "text": [
      "Best model found at epoch 161, saving model\n"
     ]
    },
    {
     "name": "stderr",
     "output_type": "stream",
     "text": [
      "Train Epoch: [161/200], lr: 0.005456, Loss: 1.9768: 100%|██████████| 242/242 [00:13<00:00, 18.22it/s]\n",
      "Feature extracting: 100%|██████████| 243/243 [00:02<00:00, 101.22it/s]\n",
      "Test Epoch: [161/200] Acc@1:69.04%: 100%|██████████| 31/31 [00:00<00:00, 45.10it/s]\n",
      "Train Epoch: [162/200], lr: 0.005188, Loss: 1.9786: 100%|██████████| 242/242 [00:13<00:00, 18.22it/s]\n",
      "Feature extracting: 100%|██████████| 243/243 [00:02<00:00, 102.39it/s]\n",
      "Test Epoch: [162/200] Acc@1:68.94%: 100%|██████████| 31/31 [00:00<00:00, 43.41it/s]\n",
      "Train Epoch: [163/200], lr: 0.004926, Loss: 1.9773: 100%|██████████| 242/242 [00:13<00:00, 18.22it/s]\n",
      "Feature extracting: 100%|██████████| 243/243 [00:02<00:00, 102.42it/s]\n",
      "Test Epoch: [163/200] Acc@1:68.94%: 100%|██████████| 31/31 [00:00<00:00, 45.46it/s]\n",
      "Train Epoch: [164/200], lr: 0.004670, Loss: 1.9678: 100%|██████████| 242/242 [00:13<00:00, 18.21it/s]\n",
      "Feature extracting: 100%|██████████| 243/243 [00:02<00:00, 102.80it/s]\n",
      "Test Epoch: [164/200] Acc@1:68.27%: 100%|██████████| 31/31 [00:00<00:00, 43.31it/s]\n",
      "Train Epoch: [165/200], lr: 0.004421, Loss: 1.9699: 100%|██████████| 242/242 [00:13<00:00, 18.23it/s]\n",
      "Feature extracting: 100%|██████████| 243/243 [00:02<00:00, 102.38it/s]\n",
      "Test Epoch: [165/200] Acc@1:68.47%: 100%|██████████| 31/31 [00:00<00:00, 44.85it/s]\n",
      "Train Epoch: [166/200], lr: 0.004178, Loss: 1.9529: 100%|██████████| 242/242 [00:13<00:00, 18.23it/s]\n",
      "Feature extracting: 100%|██████████| 243/243 [00:02<00:00, 103.04it/s]\n",
      "Test Epoch: [166/200] Acc@1:68.68%: 100%|██████████| 31/31 [00:00<00:00, 43.69it/s]\n",
      "Train Epoch: [167/200], lr: 0.003941, Loss: 1.9354: 100%|██████████| 242/242 [00:13<00:00, 18.14it/s]\n",
      "Feature extracting: 100%|██████████| 243/243 [00:02<00:00, 97.88it/s] \n",
      "Test Epoch: [167/200] Acc@1:68.19%: 100%|██████████| 31/31 [00:00<00:00, 44.62it/s]\n",
      "Train Epoch: [168/200], lr: 0.003711, Loss: 1.9230: 100%|██████████| 242/242 [00:13<00:00, 18.23it/s]\n",
      "Feature extracting: 100%|██████████| 243/243 [00:02<00:00, 102.55it/s]\n",
      "Test Epoch: [168/200] Acc@1:68.63%: 100%|██████████| 31/31 [00:00<00:00, 43.75it/s]\n",
      "Train Epoch: [169/200], lr: 0.003487, Loss: 1.9279: 100%|██████████| 242/242 [00:13<00:00, 18.27it/s]\n",
      "Feature extracting: 100%|██████████| 243/243 [00:02<00:00, 103.73it/s]\n",
      "Test Epoch: [169/200] Acc@1:67.76%: 100%|██████████| 31/31 [00:00<00:00, 44.99it/s]\n",
      "Train Epoch: [170/200], lr: 0.003270, Loss: 1.9208: 100%|██████████| 242/242 [00:13<00:00, 18.21it/s]\n",
      "Feature extracting: 100%|██████████| 243/243 [00:02<00:00, 103.30it/s]\n",
      "Test Epoch: [170/200] Acc@1:68.60%: 100%|██████████| 31/31 [00:00<00:00, 45.46it/s]\n",
      "Train Epoch: [171/200], lr: 0.003059, Loss: 1.9162: 100%|██████████| 242/242 [00:13<00:00, 18.22it/s]\n",
      "Feature extracting: 100%|██████████| 243/243 [00:02<00:00, 103.56it/s]\n",
      "Test Epoch: [171/200] Acc@1:69.37%: 100%|██████████| 31/31 [00:00<00:00, 44.63it/s]\n",
      "Train Epoch: [172/200], lr: 0.002855, Loss: 1.9097: 100%|██████████| 242/242 [00:13<00:00, 18.17it/s]\n",
      "Feature extracting: 100%|██████████| 243/243 [00:02<00:00, 103.14it/s]\n",
      "Test Epoch: [172/200] Acc@1:69.17%: 100%|██████████| 31/31 [00:00<00:00, 45.58it/s]\n",
      "Train Epoch: [173/200], lr: 0.002658, Loss: 1.9024: 100%|██████████| 242/242 [00:13<00:00, 18.22it/s]\n",
      "Feature extracting: 100%|██████████| 243/243 [00:02<00:00, 102.95it/s]\n",
      "Test Epoch: [173/200] Acc@1:68.68%: 100%|██████████| 31/31 [00:00<00:00, 44.65it/s]\n",
      "Train Epoch: [174/200], lr: 0.002467, Loss: 1.8933: 100%|██████████| 242/242 [00:13<00:00, 18.22it/s]\n",
      "Feature extracting: 100%|██████████| 243/243 [00:02<00:00, 102.56it/s]\n",
      "Test Epoch: [174/200] Acc@1:69.47%: 100%|██████████| 31/31 [00:00<00:00, 44.24it/s]\n",
      "  0%|          | 0/242 [00:00<?, ?it/s]"
     ]
    },
    {
     "name": "stdout",
     "output_type": "stream",
     "text": [
      "Best model found at epoch 175, saving model\n"
     ]
    },
    {
     "name": "stderr",
     "output_type": "stream",
     "text": [
      "Train Epoch: [175/200], lr: 0.002284, Loss: 1.8882: 100%|██████████| 242/242 [00:13<00:00, 18.24it/s]\n",
      "Feature extracting: 100%|██████████| 243/243 [00:02<00:00, 103.03it/s]\n",
      "Test Epoch: [175/200] Acc@1:69.81%: 100%|██████████| 31/31 [00:00<00:00, 45.45it/s]\n",
      "  0%|          | 0/242 [00:00<?, ?it/s]"
     ]
    },
    {
     "name": "stdout",
     "output_type": "stream",
     "text": [
      "Best model found at epoch 176, saving model\n"
     ]
    },
    {
     "name": "stderr",
     "output_type": "stream",
     "text": [
      "Train Epoch: [176/200], lr: 0.002107, Loss: 1.8895: 100%|██████████| 242/242 [00:13<00:00, 18.23it/s]\n",
      "Feature extracting: 100%|██████████| 243/243 [00:02<00:00, 102.43it/s]\n",
      "Test Epoch: [176/200] Acc@1:70.14%: 100%|██████████| 31/31 [00:00<00:00, 45.08it/s]\n",
      "  0%|          | 0/242 [00:00<?, ?it/s]"
     ]
    },
    {
     "name": "stdout",
     "output_type": "stream",
     "text": [
      "Best model found at epoch 177, saving model\n"
     ]
    },
    {
     "name": "stderr",
     "output_type": "stream",
     "text": [
      "Train Epoch: [177/200], lr: 0.001937, Loss: 1.8782: 100%|██████████| 242/242 [00:13<00:00, 18.20it/s]\n",
      "Feature extracting: 100%|██████████| 243/243 [00:02<00:00, 102.96it/s]\n",
      "Test Epoch: [177/200] Acc@1:69.81%: 100%|██████████| 31/31 [00:00<00:00, 44.63it/s]\n",
      "Train Epoch: [178/200], lr: 0.001774, Loss: 1.8601: 100%|██████████| 242/242 [00:13<00:00, 18.22it/s]\n",
      "Feature extracting: 100%|██████████| 243/243 [00:02<00:00, 103.03it/s]\n",
      "Test Epoch: [178/200] Acc@1:69.34%: 100%|██████████| 31/31 [00:00<00:00, 44.20it/s]\n",
      "Train Epoch: [179/200], lr: 0.001617, Loss: 1.8634: 100%|██████████| 242/242 [00:13<00:00, 18.22it/s]\n",
      "Feature extracting: 100%|██████████| 243/243 [00:02<00:00, 103.24it/s]\n",
      "Test Epoch: [179/200] Acc@1:68.81%: 100%|██████████| 31/31 [00:00<00:00, 45.38it/s]\n",
      "Train Epoch: [180/200], lr: 0.001468, Loss: 1.8518: 100%|██████████| 242/242 [00:13<00:00, 18.22it/s]\n",
      "Feature extracting: 100%|██████████| 243/243 [00:02<00:00, 101.70it/s]\n",
      "Test Epoch: [180/200] Acc@1:68.63%: 100%|██████████| 31/31 [00:00<00:00, 44.81it/s]\n",
      "Train Epoch: [181/200], lr: 0.001326, Loss: 1.8607: 100%|██████████| 242/242 [00:13<00:00, 18.24it/s]\n",
      "Feature extracting: 100%|██████████| 243/243 [00:02<00:00, 101.85it/s]\n",
      "Test Epoch: [181/200] Acc@1:69.19%: 100%|██████████| 31/31 [00:00<00:00, 45.45it/s]\n",
      "Train Epoch: [182/200], lr: 0.001191, Loss: 1.8547: 100%|██████████| 242/242 [00:13<00:00, 18.19it/s]\n",
      "Feature extracting: 100%|██████████| 243/243 [00:02<00:00, 102.19it/s]\n",
      "Test Epoch: [182/200] Acc@1:69.96%: 100%|██████████| 31/31 [00:00<00:00, 45.51it/s]\n",
      "Train Epoch: [183/200], lr: 0.001063, Loss: 1.8385: 100%|██████████| 242/242 [00:13<00:00, 18.23it/s]\n",
      "Feature extracting: 100%|██████████| 243/243 [00:02<00:00, 102.88it/s]\n",
      "Test Epoch: [183/200] Acc@1:69.93%: 100%|██████████| 31/31 [00:00<00:00, 45.59it/s]\n",
      "Train Epoch: [184/200], lr: 0.000943, Loss: 1.8437: 100%|██████████| 242/242 [00:13<00:00, 18.23it/s]\n",
      "Feature extracting: 100%|██████████| 243/243 [00:02<00:00, 102.66it/s]\n",
      "Test Epoch: [184/200] Acc@1:69.47%: 100%|██████████| 31/31 [00:00<00:00, 44.76it/s]\n",
      "Train Epoch: [185/200], lr: 0.000829, Loss: 1.8384: 100%|██████████| 242/242 [00:13<00:00, 18.21it/s]\n",
      "Feature extracting: 100%|██████████| 243/243 [00:02<00:00, 102.92it/s]\n",
      "Test Epoch: [185/200] Acc@1:69.34%: 100%|██████████| 31/31 [00:00<00:00, 44.53it/s]\n",
      "Train Epoch: [186/200], lr: 0.000722, Loss: 1.8233: 100%|██████████| 242/242 [00:13<00:00, 18.18it/s]\n",
      "Feature extracting: 100%|██████████| 243/243 [00:02<00:00, 102.06it/s]\n",
      "Test Epoch: [186/200] Acc@1:70.24%: 100%|██████████| 31/31 [00:00<00:00, 43.76it/s]\n",
      "  0%|          | 0/242 [00:00<?, ?it/s]"
     ]
    },
    {
     "name": "stdout",
     "output_type": "stream",
     "text": [
      "Best model found at epoch 187, saving model\n"
     ]
    },
    {
     "name": "stderr",
     "output_type": "stream",
     "text": [
      "Train Epoch: [187/200], lr: 0.000623, Loss: 1.8285: 100%|██████████| 242/242 [00:13<00:00, 18.24it/s]\n",
      "Feature extracting: 100%|██████████| 243/243 [00:02<00:00, 100.99it/s]\n",
      "Test Epoch: [187/200] Acc@1:70.27%: 100%|██████████| 31/31 [00:00<00:00, 42.75it/s]\n",
      "  0%|          | 0/242 [00:00<?, ?it/s]"
     ]
    },
    {
     "name": "stdout",
     "output_type": "stream",
     "text": [
      "Best model found at epoch 188, saving model\n"
     ]
    },
    {
     "name": "stderr",
     "output_type": "stream",
     "text": [
      "Train Epoch: [188/200], lr: 0.000531, Loss: 1.8210: 100%|██████████| 242/242 [00:13<00:00, 18.23it/s]\n",
      "Feature extracting: 100%|██████████| 243/243 [00:02<00:00, 102.66it/s]\n",
      "Test Epoch: [188/200] Acc@1:70.50%: 100%|██████████| 31/31 [00:00<00:00, 44.19it/s]\n",
      "  0%|          | 0/242 [00:00<?, ?it/s]"
     ]
    },
    {
     "name": "stdout",
     "output_type": "stream",
     "text": [
      "Best model found at epoch 189, saving model\n"
     ]
    },
    {
     "name": "stderr",
     "output_type": "stream",
     "text": [
      "Train Epoch: [189/200], lr: 0.000447, Loss: 1.8169: 100%|██████████| 242/242 [00:13<00:00, 18.25it/s]\n",
      "Feature extracting: 100%|██████████| 243/243 [00:02<00:00, 102.50it/s]\n",
      "Test Epoch: [189/200] Acc@1:70.01%: 100%|██████████| 31/31 [00:00<00:00, 44.98it/s]\n",
      "Train Epoch: [190/200], lr: 0.000369, Loss: 1.8145: 100%|██████████| 242/242 [00:13<00:00, 18.23it/s]\n",
      "Feature extracting: 100%|██████████| 243/243 [00:02<00:00, 101.50it/s]\n",
      "Test Epoch: [190/200] Acc@1:70.11%: 100%|██████████| 31/31 [00:00<00:00, 42.55it/s]\n",
      "Train Epoch: [191/200], lr: 0.000299, Loss: 1.8179: 100%|██████████| 242/242 [00:13<00:00, 18.17it/s]\n",
      "Feature extracting: 100%|██████████| 243/243 [00:02<00:00, 103.78it/s]\n",
      "Test Epoch: [191/200] Acc@1:70.06%: 100%|██████████| 31/31 [00:00<00:00, 42.52it/s]\n",
      "Train Epoch: [192/200], lr: 0.000237, Loss: 1.8036: 100%|██████████| 242/242 [00:13<00:00, 18.27it/s]\n",
      "Feature extracting: 100%|██████████| 243/243 [00:02<00:00, 102.87it/s]\n",
      "Test Epoch: [192/200] Acc@1:70.14%: 100%|██████████| 31/31 [00:00<00:00, 44.64it/s]\n",
      "Train Epoch: [193/200], lr: 0.000181, Loss: 1.7992: 100%|██████████| 242/242 [00:13<00:00, 18.23it/s]\n",
      "Feature extracting: 100%|██████████| 243/243 [00:02<00:00, 102.25it/s]\n",
      "Test Epoch: [193/200] Acc@1:70.14%: 100%|██████████| 31/31 [00:00<00:00, 45.23it/s]\n",
      "Train Epoch: [194/200], lr: 0.000133, Loss: 1.8032: 100%|██████████| 242/242 [00:13<00:00, 18.20it/s]\n",
      "Feature extracting: 100%|██████████| 243/243 [00:02<00:00, 103.32it/s]\n",
      "Test Epoch: [194/200] Acc@1:69.91%: 100%|██████████| 31/31 [00:00<00:00, 44.67it/s]\n",
      "Train Epoch: [195/200], lr: 0.000092, Loss: 1.8047: 100%|██████████| 242/242 [00:13<00:00, 18.21it/s]\n",
      "Feature extracting: 100%|██████████| 243/243 [00:02<00:00, 102.60it/s]\n",
      "Test Epoch: [195/200] Acc@1:70.16%: 100%|██████████| 31/31 [00:00<00:00, 44.77it/s]\n",
      "Train Epoch: [196/200], lr: 0.000059, Loss: 1.8239: 100%|██████████| 242/242 [00:13<00:00, 18.17it/s]\n",
      "Feature extracting: 100%|██████████| 243/243 [00:02<00:00, 103.58it/s]\n",
      "Test Epoch: [196/200] Acc@1:70.06%: 100%|██████████| 31/31 [00:00<00:00, 45.23it/s]\n",
      "Train Epoch: [197/200], lr: 0.000033, Loss: 1.8115: 100%|██████████| 242/242 [00:13<00:00, 18.17it/s]\n",
      "Feature extracting: 100%|██████████| 243/243 [00:02<00:00, 103.12it/s]\n",
      "Test Epoch: [197/200] Acc@1:70.14%: 100%|██████████| 31/31 [00:00<00:00, 44.72it/s]\n",
      "Train Epoch: [198/200], lr: 0.000015, Loss: 1.8069: 100%|██████████| 242/242 [00:13<00:00, 18.19it/s]\n",
      "Feature extracting: 100%|██████████| 243/243 [00:02<00:00, 102.10it/s]\n",
      "Test Epoch: [198/200] Acc@1:70.14%: 100%|██████████| 31/31 [00:00<00:00, 45.06it/s]\n",
      "Train Epoch: [199/200], lr: 0.000004, Loss: 1.8071: 100%|██████████| 242/242 [00:13<00:00, 18.23it/s]\n",
      "Feature extracting: 100%|██████████| 243/243 [00:02<00:00, 102.57it/s]\n",
      "Test Epoch: [199/200] Acc@1:70.11%: 100%|██████████| 31/31 [00:00<00:00, 44.73it/s]\n",
      "Train Epoch: [200/200], lr: 0.000000, Loss: 1.8106: 100%|██████████| 242/242 [00:13<00:00, 18.19it/s]\n",
      "Feature extracting: 100%|██████████| 243/243 [00:02<00:00, 102.85it/s]\n",
      "Test Epoch: [200/200] Acc@1:70.09%: 100%|██████████| 31/31 [00:00<00:00, 44.30it/s]\n"
     ]
    }
   ],
   "source": [
    "# to record best_acc\n",
    "best_acc = 0.0\n",
    "# define optimizer\n",
    "optimizer = torch.optim.SGD(model.parameters(), lr=args.lr, weight_decay=args.wd, momentum=0.9)\n",
    "\n",
    "# load model if resume\n",
    "epoch_start = 1\n",
    "if args.resume is not '':\n",
    "    checkpoint = torch.load(args.resume)\n",
    "    model.load_state_dict(checkpoint['state_dict'])\n",
    "    optimizer.load_state_dict(checkpoint['optimizer'])\n",
    "    epoch_start = checkpoint['epoch'] + 1\n",
    "    print('Loaded from: {}'.format(args.resume))\n",
    "\n",
    "model_path = create_output_model_path(args)\n",
    "# logging\n",
    "results = {'train_loss': [], 'test_acc@1': []}\n",
    "# if not os.path.exists(args.results_dir):\n",
    "#     os.mkdir(args.results_dir)\n",
    "# dump args\n",
    "with open(model_path + '/args.json', 'w') as fid:\n",
    "    json.dump(args.__dict__, fid, indent=2)\n",
    "\n",
    "# training loop\n",
    "for epoch in range(epoch_start, args.epochs + 1):\n",
    "    train_loss = train(model, train_loader, optimizer, epoch, args)\n",
    "    results['train_loss'].append(train_loss)\n",
    "    test_acc_1 = test(model.encoder_q, memory_loader, test_loader, epoch, args)\n",
    "    results['test_acc@1'].append(test_acc_1)\n",
    "    # save statistics\n",
    "    data_frame = pd.DataFrame(data=results, index=range(epoch_start, epoch + 1))\n",
    "    data_frame.to_csv(model_path + '/log.csv', index_label='epoch')\n",
    "    # save checkpoint\n",
    "    fname = 'checkpoint_{:04d}.path.tar'.format(epoch)\n",
    "    checkpoint_name = os.path.join(model_path, fname)\n",
    "    torch.save({'epoch': epoch, 'state_dict': model.state_dict(), 'optimizer' : optimizer.state_dict(),}, checkpoint_name)\n",
    "    # save model when better acc\n",
    "    if test_acc_1 > best_acc:\n",
    "        print(f\"Best model found at epoch {epoch+1}, saving model\")\n",
    "        torch.save({'epoch': epoch, 'state_dict': model.state_dict(), 'optimizer' : optimizer.state_dict(),}, model_path + '/model_best.pth')\n",
    "        best_acc = test_acc_1"
   ]
  },
  {
   "cell_type": "code",
   "execution_count": 30,
   "metadata": {},
   "outputs": [],
   "source": [
    "def save_loss(train_loss, save_path):\n",
    "    plt.clf()  # Clear the figure\n",
    "    plt.xlabel('Epoch')\n",
    "    plt.ylabel('Loss')\n",
    "    plt.title(\"Loss\")\n",
    "    plt.plot(train_loss,  label = \"Training\") # training loss curve\n",
    "    #plt.plot(test_loss,  label = \"Validation\") # training loss curve\n",
    "    plt.legend(loc = 'upper left')\n",
    "    plt.savefig(save_path, bbox_inches='tight')\n",
    "    \n",
    "def save_acc(test_acc, save_path):\n",
    "    plt.clf()  # Clear the figure\n",
    "    plt.xlabel('Epoch')\n",
    "    plt.ylabel('Accuracy(%)')\n",
    "    plt.title(\"Accuracy (knn_predict)\")\n",
    "    #plt.plot(train_acc,  label = \"Training\") # training loss curve\n",
    "    plt.plot(test_acc,  label = \"Validation\") # training loss curve\n",
    "    plt.legend(loc = 'upper left')\n",
    "    plt.savefig(save_path, bbox_inches='tight')\n",
    "    \n",
    "def save_result_fig(args, name, version=0):\n",
    "    result_path = os.path.join('results', \"Allen's Result\", \"SOCOFing_Fingerprint\", \"MoCo\", \"Training\",\n",
    "                                  '{}-classes_{}-featureDim_{}-queueSize_{}-epochsize_{}-'\n",
    "                                  'bsize_{}-tepochs_{}_{}-{}.jpg'.format(\n",
    "                                      args.arch, args.classes, args.moco_dim, args.moco_k, args.epoch_size, args.batch_size, args.epochs, version, name))\n",
    "    if os.path.exists(result_path):\n",
    "        return save_result_fig(args, name, version+1)\n",
    "    else:    \n",
    "        return result_path"
   ]
  },
  {
   "cell_type": "markdown",
   "metadata": {},
   "source": [
    "## Draw the Training and Validation graph"
   ]
  },
  {
   "cell_type": "code",
   "execution_count": 31,
   "metadata": {},
   "outputs": [
    {
     "data": {
      "image/png": "[encoded data removed]",
      "text/plain": [
       "<Figure size 432x288 with 1 Axes>"
      ]
     },
     "metadata": {
      "needs_background": "light"
     },
     "output_type": "display_data"
    }
   ],
   "source": [
    "import matplotlib.pyplot as plt\n",
    "import pandas as pd\n",
    "\n",
    "data = pd.read_csv(os.path.join(model_path, \"log.csv\"))\n",
    "\n",
    "\n",
    "#將訓練結果存起來\n",
    "fig_loss_path = save_result_fig(args, \"Loss\")\n",
    "fig_loss = save_loss(data['train_loss'], fig_loss_path)\n",
    "fig_acc_path = save_result_fig(args, \"Acc\")\n",
    "fig_acc = save_acc(data['test_acc@1'], fig_acc_path)"
   ]
  },
  {
   "cell_type": "code",
   "execution_count": null,
   "metadata": {},
   "outputs": [],
   "source": []
  }
 ],
 "metadata": {
  "accelerator": "GPU",
  "colab": {
   "name": "moco_cifar10_demo",
   "provenance": [],
   "toc_visible": true
  },
  "environment": {
   "name": "pytorch-gpu.1-4.m50",
   "type": "gcloud",
   "uri": "gcr.io/deeplearning-platform-release/pytorch-gpu.1-4:m50"
  },
  "kernelspec": {
   "display_name": "Python 3",
   "language": "python",
   "name": "python3"
  },
  "language_info": {
   "codemirror_mode": {
    "name": "ipython",
    "version": 3
   },
   "file_extension": ".py",
   "mimetype": "text/x-python",
   "name": "python",
   "nbconvert_exporter": "python",
   "pygments_lexer": "ipython3",
   "version": "3.6.9"
  }
 },
 "nbformat": 4,
 "nbformat_minor": 1
}

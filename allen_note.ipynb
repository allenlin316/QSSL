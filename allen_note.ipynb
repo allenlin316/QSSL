{
 "cells": [
  {
   "cell_type": "code",
   "execution_count": 5,
   "metadata": {
    "scrolled": true
   },
   "outputs": [
    {
     "name": "stdout",
     "output_type": "stream",
     "text": [
      "Enabling notebook extension jupyter-js-widgets/extension...\r\n",
      "      - Validating: \u001b[32mOK\u001b[0m\r\n"
     ]
    }
   ],
   "source": [
    "# !pip install ipywidgets\n",
    "# !jupyter nbextension enable --py widgetsnbextension"
   ]
  },
  {
   "cell_type": "code",
   "execution_count": 2,
   "metadata": {},
   "outputs": [],
   "source": [
    "import torchvision.transforms as trns\n",
    "from PIL import Image\n",
    "import pandas as pd\n",
    "import os\n",
    "from scipy.io import loadmat\n",
    "from torch.utils.data import DataLoader\n",
    "from torch.utils.data.dataset import Dataset\n",
    "from torchvision import transforms\n",
    "import numpy as np\n",
    "import cv2\n",
    "import torch\n",
    "import torchvision.datasets as datasets\n",
    "import moco.builder\n",
    "import moco.loader"
   ]
  },
  {
   "cell_type": "code",
   "execution_count": 18,
   "metadata": {},
   "outputs": [
    {
     "name": "stdout",
     "output_type": "stream",
     "text": [
      "Files already downloaded and verified\n",
      "train_dataset.data: <class 'numpy.ndarray'>\n",
      "train_labels: [6 9 9 ... 9 1 1]\n",
      "train_idx: [   29    30    35 ... 49963 49971 49997]\n",
      "train_idx.size: 50000\n",
      "train_dataset.targets: [0 0 0 ... 9 9 9]\n",
      "train_dataset.targets.size: 50000\n",
      "train_dataset.data.size: 153600000\n",
      "train_dataset.data.shape: (50000, 32, 32, 3)\n"
     ]
    }
   ],
   "source": [
    "# CIFAR-10 dataset\n",
    "\n",
    "datadir = './data'\n",
    "classes = 10\n",
    "epoch_size = 50000\n",
    "# Normalization for CIFAR\n",
    "normalize = transforms.Normalize(mean=[0.4914, 0.4822, 0.4465],\n",
    "                                 std=[0.2023, 0.1994, 0.2010])\n",
    "\n",
    "augmentation = [\n",
    "    transforms.RandomResizedCrop(32, scale=(0.2, 1.0)),\n",
    "    transforms.RandomApply([\n",
    "        transforms.ColorJitter(0.4, 0.4, 0.4, 0.1)  # not strengthened\n",
    "    ], p=0.8),\n",
    "    transforms.RandomGrayscale(p=0.2),\n",
    "    # transforms.RandomApply([moco.loader.GaussianBlur([.1, 2.])], p=0.5),\n",
    "    transforms.RandomHorizontalFlip(p=0.5),\n",
    "    transforms.ToTensor(),\n",
    "    normalize\n",
    "]\n",
    "\n",
    "train_dataset = datasets.CIFAR10(root=datadir, train=True, download=True,\n",
    "                                 transform=moco.loader.TwoCropsTransform(\n",
    "                                     transforms.Compose(augmentation)))\n",
    "\n",
    "print(f'train_dataset.data: {type(train_dataset.data)}')\n",
    "\n",
    "\n",
    "train_labels = np.array(train_dataset.targets)\n",
    "print(f'train_labels: {train_labels}')\n",
    "num_classes = classes\n",
    "train_idx = np.array(\n",
    "    [np.where(train_labels == i)[0][:int(epoch_size / num_classes)] for i in range(0, num_classes)]).flatten()\n",
    "train_dataset.targets = train_labels[train_idx]\n",
    "train_dataset.data = train_dataset.data[train_idx]\n",
    "print(f'train_idx: {train_idx}')\n",
    "print(f'train_idx.size: {train_idx.size}')\n",
    "print(f'train_dataset.targets: {train_dataset.targets}')\n",
    "print(f'train_dataset.targets.size: {train_dataset.targets.size}')\n",
    "print(f'train_dataset.data.size: {train_dataset.data.size}')\n",
    "print(f'train_dataset.data.shape: {train_dataset.data.shape}')"
   ]
  },
  {
   "cell_type": "code",
   "execution_count": null,
   "metadata": {},
   "outputs": [],
   "source": []
  }
 ],
 "metadata": {
  "kernelspec": {
   "display_name": "Python 3",
   "language": "python",
   "name": "python3"
  },
  "language_info": {
   "codemirror_mode": {
    "name": "ipython",
    "version": 3
   },
   "file_extension": ".py",
   "mimetype": "text/x-python",
   "name": "python",
   "nbconvert_exporter": "python",
   "pygments_lexer": "ipython3",
   "version": "3.6.9"
  }
 },
 "nbformat": 4,
 "nbformat_minor": 2
}

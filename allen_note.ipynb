{
 "cells": [
  {
   "cell_type": "code",
   "execution_count": 17,
   "metadata": {
    "scrolled": true
   },
   "outputs": [],
   "source": [
    "# !pip install ipywidgets\n",
    "# !jupyter nbextension enable --py widgetsnbextension"
   ]
  },
  {
   "cell_type": "markdown",
   "metadata": {},
   "source": [
    "## Draw plot with error bar (quantum v.s. classical method)"
   ]
  },
  {
   "cell_type": "code",
   "execution_count": 2,
   "metadata": {},
   "outputs": [],
   "source": [
    "import os, torch\n",
    "import numpy as np\n",
    "classical_npy = os.path.join(\"model\", \"selfsup\", \"simclr\", \"SimCLR-resnet18-quantum_False-classes_600-netwidth_8-nlayers_2-identity_False-epochsize_4800-bsize_128-tepochs_15_0\", \"training_metrics.npy\")\n",
    "quantum1_npy = os.path.join(\"model\", \"selfsup\", \"simclr\", \"SimCLR-resnet18-quantum_True-backend_qasm_simulator-classes_600--ansatz_sim_circ_14_half-netwidth_8-nlayers_2-nsweeps_1-activation_null-shots_100-epochsize_4800-bsize_128-tepochs_15_6\", \"training_metrics.npy\")\n",
    "quantum2_npy = os.path.join(\"model\", \"selfsup\", \"simclr\", \"SimCLR-resnet18-quantum_True-backend_qasm_simulator-classes_600--ansatz_sim_circ_14_half-netwidth_8-nlayers_2-nsweeps_1-activation_null-shots_100-epochsize_4800-bsize_128-tepochs_15_7\", \"training_metrics.npy\")\n",
    "quantum3_npy = os.path.join(\"model\", \"selfsup\", \"simclr\", \"SimCLR-resnet18-quantum_True-backend_qasm_simulator-classes_600--ansatz_sim_circ_14_half-netwidth_8-nlayers_2-nsweeps_1-activation_null-shots_100-epochsize_4800-bsize_128-tepochs_15_8\", \"training_metrics.npy\")\n",
    "#classical_checkpoint = torch.load(classical_PATH, map_location=torch.device('cpu'))\n",
    "#quantum_checkpoint = torch.load(quantum_PATH, map_location=torch.device('cpu'))\n",
    "classical_np = np.load(classical_npy, allow_pickle=True)\n",
    "quantum1 = np.load(quantum1_npy, allow_pickle=True)\n",
    "quantum2 = np.load(quantum2_npy, allow_pickle=True)\n",
    "quantum3 = np.load(quantum3_npy, allow_pickle=True)\n",
    "#print(checkpoint['acc2'])"
   ]
  },
  {
   "cell_type": "code",
   "execution_count": 15,
   "metadata": {},
   "outputs": [
    {
     "name": "stdout",
     "output_type": "stream",
     "text": [
      "546\n",
      "546\n"
     ]
    }
   ],
   "source": [
    "quantum_top2_acc = []\n",
    "classical_top2_acc = []\n",
    "quantum_top2_acc = quantum_top2_acc + quantum1[1] + quantum2[1] + quantum3[1]\n",
    "classical_top2_acc = classical_np[1][9:]\n",
    "print(len(quantum_top2_acc))\n",
    "print(len(classical_top2_acc))"
   ]
  },
  {
   "cell_type": "code",
   "execution_count": 16,
   "metadata": {},
   "outputs": [
    {
     "data": {
      "image/png": "[encoded data removed]",
      "text/plain": [
       "<Figure size 432x288 with 1 Axes>"
      ]
     },
     "metadata": {
      "needs_background": "light"
     },
     "output_type": "display_data"
    }
   ],
   "source": [
    "import numpy as np\n",
    "import matplotlib.pyplot as plt\n",
    "\n",
    "# Assuming you have the following data available:\n",
    "# quantum_checkpoint = {'acc2': ...}  # Data for the Quantum case\n",
    "# classical_checkpoint = {'acc2': ...}  # Data for the Classical case\n",
    "\n",
    "# Compute the standard deviation for every 20 batches\n",
    "def calculate_std_every_20_batches(data):\n",
    "    std_values = []\n",
    "    for i in range(0, len(data), 20):\n",
    "        batch_subset = data[i:i + 20]\n",
    "        std_values.append(np.std(batch_subset))\n",
    "    return std_values\n",
    "\n",
    "# Calculate standard deviation for every 20 batches\n",
    "quantum_error = calculate_std_every_20_batches(quantum_top2_acc)\n",
    "classical_error = calculate_std_every_20_batches(classical_top2_acc)\n",
    "\n",
    "plt.clf()  # Clear the figure\n",
    "plt.xlabel('Training Batches')\n",
    "plt.ylabel('Accuracy(%)')\n",
    "plt.title(\"Top 2 Acc\")\n",
    "\n",
    "# Plotting Quantum data with error bars (using standard deviation as error)\n",
    "plt.errorbar(range(0, len(quantum_top2_acc), 20), quantum_top2_acc[::20], yerr=quantum_error, label=\"Quantum\", fmt='o-', capsize=2)\n",
    "\n",
    "# Plotting Classical data with error bars (using standard deviation as error)\n",
    "plt.errorbar(range(0, len(classical_top2_acc), 20), classical_top2_acc[::20], yerr=classical_error, label=\"Classical\", fmt='o-', capsize=2)\n",
    "\n",
    "plt.legend(loc='upper left')\n",
    "plt.show()"
   ]
  },
  {
   "cell_type": "markdown",
   "metadata": {},
   "source": [
    "## Check fingerprint image std and mean"
   ]
  },
  {
   "cell_type": "code",
   "execution_count": 19,
   "metadata": {},
   "outputs": [],
   "source": [
    "from PIL import Image\n",
    "import pandas as pd\n",
    "import os\n",
    "from scipy.io import loadmat\n",
    "from torch.utils.data import DataLoader\n",
    "from torch.utils.data.dataset import Dataset\n",
    "from torchvision import transforms\n",
    "import numpy as np\n",
    "import cv2\n",
    "import torch\n",
    "import torchvision.datasets as datasets\n",
    "import moco.builder\n",
    "import moco.loader"
   ]
  },
  {
   "cell_type": "code",
   "execution_count": 20,
   "metadata": {},
   "outputs": [],
   "source": [
    "# 2023-3-12 custom dataset created by Allen LIN\n",
    "\n",
    "class fingerprintDataset(Dataset):\n",
    "    def __init__(self, annotations_file, img_dir, transform=None, target_transform=None):\n",
    "        self.img_labels = pd.read_csv(annotations_file)\n",
    "        self.img_dir = img_dir\n",
    "        self.transform = transform\n",
    "        self.targets = self.img_labels.iloc[:, 1] # label of the dataset\n",
    "        self.target_transform = target_transform\n",
    "        img_path = os.path.join(self.img_dir, self.img_labels.iloc[0, 0])\n",
    "    def __getitem__(self, idx):\n",
    "        img_path = os.path.join(self.img_dir, self.img_labels.iloc[idx, 0])\n",
    "        image = cv2.imread(img_path, cv2.IMREAD_GRAYSCALE)\n",
    "        label = self.img_labels.iloc[idx, 1]\n",
    "        if self.transform:\n",
    "            image = self.transform(image)\n",
    "        if self.target_transform:\n",
    "            label = self.target_transform(label)\n",
    "        return image, label\n",
    "    def __len__(self):\n",
    "        return len(self.img_labels)"
   ]
  },
  {
   "cell_type": "code",
   "execution_count": 44,
   "metadata": {},
   "outputs": [
    {
     "name": "stdout",
     "output_type": "stream",
     "text": [
      "[tensor([[[0.0000, 0.0000, 0.0000,  ..., 0.0000, 0.0000, 0.0000],\n",
      "         [0.0000, 0.0000, 0.0000,  ..., 0.0000, 0.0000, 0.0000],\n",
      "         [0.0000, 0.0000, 0.0000,  ..., 0.0000, 0.0000, 0.0000],\n",
      "         ...,\n",
      "         [0.0471, 0.0235, 0.0039,  ..., 0.0039, 0.0118, 0.0275],\n",
      "         [0.0392, 0.0157, 0.1333,  ..., 0.0118, 0.0078, 0.0196],\n",
      "         [0.0000, 0.0000, 0.3098,  ..., 0.0196, 0.0000, 0.0000]]]), tensor([[[0., 0., 0.,  ..., 0., 0., 0.],\n",
      "         [0., 0., 0.,  ..., 0., 0., 0.],\n",
      "         [0., 0., 0.,  ..., 0., 0., 0.],\n",
      "         ...,\n",
      "         [0., 0., 0.,  ..., 0., 0., 0.],\n",
      "         [0., 0., 0.,  ..., 0., 0., 0.],\n",
      "         [0., 0., 0.,  ..., 0., 0., 0.]]])]\n",
      "tensor(1.)\n",
      "tensor(1.)\n",
      "tensor(1.)\n",
      "tensor(1.)\n",
      "tensor(1.)\n",
      "tensor(1.)\n",
      "tensor(1.)\n",
      "tensor(1.)\n",
      "tensor(1.)\n",
      "tensor(1.)\n"
     ]
    }
   ],
   "source": [
    "annotations_file = os.path.join(\"kaggle_fingerprint\", \"Enhanced_and_cannied\", \"training_cannied_fingerprint_annotations.csv\")\n",
    "img_dir = os.path.join(\"kaggle_fingerprint\", \"Enhanced_and_cannied\", \"Cannied\")\n",
    "# Normalization for SOCOFing Fingerprint dataset\n",
    "normalize = transforms.Normalize(mean=[0.1528],\n",
    "                                     std=[0.1543])\n",
    "augmentation = [\n",
    "        transforms.ToPILImage(), # to PIL format\n",
    "        transforms.RandomResizedCrop(300, scale=(0.2, 1.0)),\n",
    "#         transforms.RandomApply([\n",
    "#             transforms.ColorJitter(0.4, 0.4, 0.4, 0.1)  # not strengthened\n",
    "#         ], p=0.8),\n",
    "        transforms.RandomGrayscale(p=0.2),\n",
    "        # transforms.RandomApply([moco.loader.GaussianBlur([.1, 2.])], p=0.5),\n",
    "        transforms.RandomHorizontalFlip(p=0.5),\n",
    "        transforms.ToTensor(),\n",
    "        #normalize\n",
    "]\n",
    "transform = transforms.Compose(augmentation)\n",
    "train_dataset = fingerprintDataset(annotations_file, img_dir,\n",
    "                                   transform=moco.loader.TwoCropsTransform(\n",
    "                                     transforms.Compose(augmentation)))\n",
    "imgs, label = train_dataset[0]\n",
    "print(imgs)\n",
    "# get the average of standard and mean value of images\n",
    "avg_std_list = []\n",
    "avg_mean_list = []\n",
    "for i in range(10):\n",
    "    imgs, label = train_dataset[i] # has two images because of augmentation\n",
    "    print(torch.max(imgs[0]))\n",
    "    #print(f'img.std: {torch.std(imgs[0])}, img.mean: {torch.mean(imgs[0])}')\n",
    "    #avg_std_list.append(torch.std(imgs[1]).item())\n",
    "    #avg_mean_list.append(torch.mean(imgs[1]).item())\n",
    "\n",
    "#print(f'avg_std_list: {avg_std_list}, avg_mean_list: {avg_mean_list}')\n",
    "#print(f'means of std_list & mean_list: {np.mean(avg_std_list)}, {np.mean(avg_mean_list)}')"
   ]
  },
  {
   "cell_type": "code",
   "execution_count": null,
   "metadata": {},
   "outputs": [],
   "source": []
  }
 ],
 "metadata": {
  "kernelspec": {
   "display_name": "Python 3",
   "language": "python",
   "name": "python3"
  },
  "language_info": {
   "codemirror_mode": {
    "name": "ipython",
    "version": 3
   },
   "file_extension": ".py",
   "mimetype": "text/x-python",
   "name": "python",
   "nbconvert_exporter": "python",
   "pygments_lexer": "ipython3",
   "version": "3.6.9"
  }
 },
 "nbformat": 4,
 "nbformat_minor": 2
}

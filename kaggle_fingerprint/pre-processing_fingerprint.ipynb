{
 "cells": [
  {
   "cell_type": "markdown",
   "metadata": {},
   "source": [
    "## Test and show fingerprint (SOCOFing fingerprint dataset)"
   ]
  },
  {
   "cell_type": "code",
   "execution_count": 57,
   "metadata": {},
   "outputs": [
    {
     "name": "stdout",
     "output_type": "stream",
     "text": [
      "<PIL.BmpImagePlugin.BmpImageFile image mode=RGBA size=96x103 at 0x7F6B0BC27220>\n"
     ]
    },
    {
     "data": {
      "image/png": "[encoded data removed]",
      "text/plain": [
       "<PIL.BmpImagePlugin.BmpImageFile image mode=RGBA size=96x103>"
      ]
     },
     "metadata": {},
     "output_type": "display_data"
    },
    {
     "name": "stdout",
     "output_type": "stream",
     "text": [
      "tensor([[[160, 160, 160,  ...,   0,   0,   0],\n",
      "         [160, 105, 105,  ...,   0,   0,   0],\n",
      "         [160, 105, 255,  ...,   0,   0,   0],\n",
      "         ...,\n",
      "         [  0,   0,   0,  ...,   0,   0,   0],\n",
      "         [  0,   0,   0,  ...,   0,   0,   0],\n",
      "         [  0,   0,   0,  ...,   0,   0,   0]],\n",
      "\n",
      "        [[160, 160, 160,  ...,   0,   0,   0],\n",
      "         [160, 105, 105,  ...,   0,   0,   0],\n",
      "         [160, 105, 255,  ...,   0,   0,   0],\n",
      "         ...,\n",
      "         [  0,   0,   0,  ...,   0,   0,   0],\n",
      "         [  0,   0,   0,  ...,   0,   0,   0],\n",
      "         [  0,   0,   0,  ...,   0,   0,   0]],\n",
      "\n",
      "        [[160, 160, 160,  ...,   0,   0,   0],\n",
      "         [160, 105, 105,  ...,   0,   0,   0],\n",
      "         [160, 105, 255,  ...,   0,   0,   0],\n",
      "         ...,\n",
      "         [  0,   0,   0,  ...,   0,   0,   0],\n",
      "         [  0,   0,   0,  ...,   0,   0,   0],\n",
      "         [  0,   0,   0,  ...,   0,   0,   0]],\n",
      "\n",
      "        [[255, 255, 255,  ...,   0,   0,   0],\n",
      "         [255, 255, 255,  ...,   0,   0,   0],\n",
      "         [255, 255, 255,  ...,   0,   0,   0],\n",
      "         ...,\n",
      "         [  0,   0,   0,  ...,   0,   0,   0],\n",
      "         [  0,   0,   0,  ...,   0,   0,   0],\n",
      "         [  0,   0,   0,  ...,   0,   0,   0]]], dtype=torch.uint8)\n",
      "torch.Size([4, 103, 96])\n"
     ]
    }
   ],
   "source": [
    "# Import necessary libraries\n",
    "import os\n",
    "import torch\n",
    "from PIL import Image\n",
    "import torchvision.transforms as transforms\n",
    "    \n",
    "    \n",
    "# define image path\n",
    "img_dir = os.path.join(\"..\", \"kaggle_fingerprint\", \"SOCOFing\", \"Real\")\n",
    "img_path = os.path.join(img_dir, \"1__M_Left_index_finger.BMP\")\n",
    "\n",
    "# Read a PIL image\n",
    "image = Image.open(img_path)\n",
    "print(image)\n",
    "# show pic\n",
    "image.show()\n",
    "  \n",
    "# Define a transform to convert PIL \n",
    "# image to a Torch tensor\n",
    "transform = transforms.Compose([\n",
    "    transforms.PILToTensor()\n",
    "])\n",
    "  \n",
    "# transform = transforms.PILToTensor()\n",
    "# Convert the PIL image to Torch tensor\n",
    "img_tensor = transform(image)\n",
    "  \n",
    "# print the converted Torch tensor\n",
    "print(img_tensor)\n",
    "print(img_tensor.shape)"
   ]
  },
  {
   "cell_type": "markdown",
   "metadata": {},
   "source": [
    "## Rename image name and integrate together into one folder (All/)\n",
    "* because I wanna put all images into one single folder (All/)"
   ]
  },
  {
   "cell_type": "code",
   "execution_count": 85,
   "metadata": {},
   "outputs": [],
   "source": [
    "import os\n",
    "\n",
    "# change every files under certain folder postfix\n",
    "def change_file_postfix(folder_path, postfix):\n",
    "    # 获取文件夹中的文件列表\n",
    "    files = os.listdir(folder_path)\n",
    "    for file in files:\n",
    "        old_path = os.path.join(folder_path, file)\n",
    "        filename, extension = os.path.splitext(file)\n",
    "        filename += \"_\" + postfix\n",
    "        new_path = os.path.join(folder_path, filename + extension)\n",
    "        os.rename(old_path, new_path)\n",
    "#         print(f'old_path: {old_path}, new_path: {new_path}')\n",
    "#         break\n",
    "\n",
    "folder_path = os.path.join(\"SOCOFing\", \"Altered\", \"Altered-Hard\")  \n",
    "new_postfix = 'AlteredHard'\n",
    "change_file_postfix(folder_path, new_postfix)\n",
    "\n"
   ]
  },
  {
   "cell_type": "markdown",
   "metadata": {},
   "source": [
    "## Modify identity by minus 1 (range will be 0~599)\n",
    "* because loss function need label range between 0~n-1\n",
    "* hence the filename also needs to be modified as well"
   ]
  },
  {
   "cell_type": "code",
   "execution_count": 92,
   "metadata": {},
   "outputs": [
    {
     "name": "stdout",
     "output_type": "stream",
     "text": [
      "Initial file size: 55270\n",
      "After file size: 55270\n"
     ]
    }
   ],
   "source": [
    "import re\n",
    "import os\n",
    "\n",
    "folder_path = os.path.join(\"SOCOFing\", \"All\")\n",
    "\n",
    "# 讀取檔案列表\n",
    "files = os.listdir(folder_path)\n",
    "print(f'Initial file size: {len(files)}')\n",
    "\n",
    "# 定義排序函式\n",
    "def sort_by_number(filename):\n",
    "    # 使用正則表達式提取檔案名中的數字部分\n",
    "    match = re.search(r\"(\\d+)\", filename)\n",
    "    if match:\n",
    "        return int(match.group(0))  # 返回數字部分作為排序依據\n",
    "    else:\n",
    "        return 0  # 如果檔案名中沒有數字，將其視為0\n",
    "\n",
    "# 按照數字大小進行排序\n",
    "sorted_files = sorted(files, key=sort_by_number)\n",
    "\n",
    "# 依序讀取檔案\n",
    "for filename in sorted_files:\n",
    "    person = re.match(r\"(\\d+)\", filename)\n",
    "    new_id = int(person.group(0)) - 1\n",
    "    new_file = re.sub(r\"\\d+\", str(new_id), filename)\n",
    "    old_path = os.path.join(folder_path, filename)\n",
    "    new_path = os.path.join(folder_path, new_file)\n",
    "    #print(old_path)\n",
    "    #print(new_path)\n",
    "    os.rename(old_path, new_path)\n",
    "    \n",
    "print(f'After file size: {len(os.listdir(folder_path))}')\n"
   ]
  },
  {
   "cell_type": "markdown",
   "metadata": {},
   "source": [
    "## Combine each path of fingerprint with label in .csv file"
   ]
  },
  {
   "cell_type": "code",
   "execution_count": 93,
   "metadata": {},
   "outputs": [
    {
     "name": "stdout",
     "output_type": "stream",
     "text": [
      "Total dataset size: 55270\n"
     ]
    }
   ],
   "source": [
    "import os, re, csv\n",
    "\n",
    "img_dir = os.path.join(\"SOCOFing\", \"All\") # define image path\n",
    "data_list = [[\"img_path\", \"label\"]] # for csv file annotations\n",
    "\n",
    "def combine_imgPath_and_label(img_dir):\n",
    "    for root, dirs, files in os.walk(img_dir):\n",
    "#         print(f'root: {root}, dirs: {dirs}, files: {files}')\n",
    "#         print(f'files size: {len(files)}')\n",
    "        for file_name in files:\n",
    "            data = []\n",
    "            person = re.match(r\"(\\d+)\", file_name)\n",
    "            data.append(file_name)\n",
    "            data.append(person.group(0))\n",
    "            data_list.append(data)\n",
    "    print(f'Total dataset size: {len(data_list)-1}') # minus the header name \n",
    "\n",
    "combine_imgPath_and_label(img_dir)\n",
    "\n",
    "# creat a csv file and store the image path and label\n",
    "with open(\"./kaggle_fingerprint_annotations.csv\", \"w\", newline=\"\", encoding=\"utf-8\") as f:\n",
    "    writer = csv.writer(f)\n",
    "    writer.writerows(data_list)"
   ]
  },
  {
   "cell_type": "markdown",
   "metadata": {},
   "source": [
    "## Creat kaggle fingerprint dataset class\n"
   ]
  },
  {
   "cell_type": "markdown",
   "metadata": {},
   "source": [
    "## seperate training and validation and testing sets (80:10:10)"
   ]
  },
  {
   "cell_type": "code",
   "execution_count": 11,
   "metadata": {},
   "outputs": [
    {
     "name": "stdout",
     "output_type": "stream",
     "text": [
      "Total training data size: 31051\n",
      "Total validation data size: 3864\n",
      "Total testing data size: 3916\n"
     ]
    }
   ],
   "source": [
    "# seperate training and validation sets (80:20)\n",
    "# SOCOFing fingerprint All/\n",
    "import os, re, csv\n",
    "\n",
    "folder_path = os.path.join(\"SOCOFing\", \"All\")\n",
    "testing_split = 1\n",
    "validation_split = 1\n",
    "training_split = 8\n",
    "training_list = [[\"img_path\", \"label\"]]\n",
    "validation_list = [[\"img_path\", \"label\"]]\n",
    "testing_list = [[\"img_path\", \"label\"]]\n",
    "\n",
    "# 定義排序函式\n",
    "def sort_by_number(filename):\n",
    "    # 使用正則表達式提取檔案名中的數字部分\n",
    "    match = re.search(r\"(\\d+)\", filename)\n",
    "    if match:\n",
    "        return int(match.group(0))  # 返回數字部分作為排序依據\n",
    "    else:\n",
    "        return 0  # 如果檔案名中沒有數字，將其視為0\n",
    "\n",
    "def combine_imgPath_and_label(img_list):\n",
    "    for i, img in enumerate(img_list):\n",
    "        train_data = []\n",
    "        valid_data = []\n",
    "        test_data = []\n",
    "        person = re.match(r\"(\\d+)\", img)\n",
    "        if \"CR\" in img:\n",
    "            continue\n",
    "        if i % (training_split+validation_split+testing_split) < training_split:\n",
    "            train_data.append(img)\n",
    "            train_data.append(int(person.group(0)))\n",
    "            training_list.append(train_data)\n",
    "        elif i % (validation_split + testing_split) < validation_split:\n",
    "            valid_data.append(img)\n",
    "            valid_data.append(int(person.group(0)))\n",
    "            validation_list.append(valid_data)\n",
    "        else:\n",
    "            test_data.append(img)\n",
    "            test_data.append(int(person.group(0)))\n",
    "            testing_list.append(test_data)\n",
    "            \n",
    "    print(f'Total training data size: {len(training_list)-1}') # minus the header name \n",
    "    print(f'Total validation data size: {len(validation_list)-1}')\n",
    "    print(f'Total testing data size: {len(testing_list)-1}')\n",
    "\n",
    "files = os.listdir(folder_path)\n",
    "sorted_files = sorted(files, key=sort_by_number) # 按照數字大小進行排序   \n",
    "combine_imgPath_and_label(sorted_files)\n",
    "# for i in range(100):\n",
    "#     print(training_list[i])\n",
    "#     print(validation_list[i])"
   ]
  },
  {
   "cell_type": "code",
   "execution_count": 9,
   "metadata": {},
   "outputs": [
    {
     "name": "stdout",
     "output_type": "stream",
     "text": [
      "kaggle_training_fingerprint_annotations.csv saved\n",
      "kaggle_validation_fingerprint_annotations.csv saved\n",
      "kaggle_testing_fingerprint_annotations.csv saved\n"
     ]
    }
   ],
   "source": [
    "# creat a csv file and store the image path and label\n",
    "def store_path_label_csv(annotations_file, data_list):\n",
    "    with open(annotations_file, \"w\", newline=\"\", encoding=\"utf-8\") as f:\n",
    "        writer = csv.writer(f)\n",
    "        writer.writerows(data_list)\n",
    "    print(f'{annotations_file} saved')\n",
    "\n",
    "training_annotations_file = \"kaggle_training_fingerprint_annotations.csv\"\n",
    "validation_annotations_file = \"kaggle_validation_fingerprint_annotations.csv\"\n",
    "testing_annotations_file = \"kaggle_testing_fingerprint_annotations.csv\"\n",
    "store_path_label_csv(training_annotations_file, training_list)\n",
    "store_path_label_csv(validation_annotations_file, validation_list)\n",
    "store_path_label_csv(testing_annotations_file, testing_list)"
   ]
  },
  {
   "cell_type": "code",
   "execution_count": 58,
   "metadata": {},
   "outputs": [],
   "source": [
    "# 2023-3-12 custom dataset created by Allen LIN\n",
    "from PIL import Image\n",
    "import pandas as pd\n",
    "import os\n",
    "from scipy.io import loadmat\n",
    "from torch.utils.data import DataLoader\n",
    "from torch.utils.data.dataset import Dataset\n",
    "from torchvision import transforms\n",
    "import numpy as np\n",
    "import cv2\n",
    "import torch\n",
    "\n",
    "class fingerprintDataset(Dataset):\n",
    "    def __init__(self, annotations_file, img_dir, transform=None, target_transform=None):\n",
    "        self.img_labels = pd.read_csv(annotations_file)\n",
    "        self.img_dir = img_dir\n",
    "        self.transform = transform\n",
    "        self.targets = self.img_labels.iloc[:, 1] # label of the dataset\n",
    "        self.target_transform = target_transform\n",
    "#         img_path = os.path.join(self.img_dir, self.img_labels.iloc[0, 0])\n",
    "#         image = cv2.imread(img_path)\n",
    "#         self.data = np.empty((len(self.img_labels), *image.shape), dtype=np.uint8)\n",
    "#         for i in range(len(self.img_labels)):\n",
    "#             self.data[i] = image\n",
    "    def __getitem__(self, idx):\n",
    "        img_path = os.path.join(self.img_dir, self.img_labels.iloc[idx, 0])\n",
    "        image = cv2.imread(img_path)\n",
    "        label = self.img_labels.iloc[idx, 1]\n",
    "        if self.transform:\n",
    "            image = self.transform(image)\n",
    "        if self.target_transform:\n",
    "            label = self.target_transform(label)\n",
    "        return image, label\n",
    "    def __len__(self):\n",
    "        return len(self.img_labels)"
   ]
  }
 ],
 "metadata": {
  "kernelspec": {
   "display_name": "Python 3",
   "language": "python",
   "name": "python3"
  },
  "language_info": {
   "codemirror_mode": {
    "name": "ipython",
    "version": 3
   },
   "file_extension": ".py",
   "mimetype": "text/x-python",
   "name": "python",
   "nbconvert_exporter": "python",
   "pygments_lexer": "ipython3",
   "version": "3.6.9"
  }
 },
 "nbformat": 4,
 "nbformat_minor": 2
}
